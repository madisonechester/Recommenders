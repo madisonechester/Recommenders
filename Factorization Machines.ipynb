{
 "cells": [
  {
   "cell_type": "markdown",
   "id": "097cf83b-a6c9-451f-bd15-a2ccb0e38e26",
   "metadata": {
    "tags": []
   },
   "source": [
    "# Lesson 6b: Factorization Machines with Keras"
   ]
  },
  {
   "cell_type": "code",
   "execution_count": 1,
   "id": "a9c7db2e",
   "metadata": {},
   "outputs": [
    {
     "name": "stderr",
     "output_type": "stream",
     "text": [
      "C:\\Users\\mecheste\\AppData\\Local\\Temp\\ipykernel_11904\\3777615979.py:1: DeprecationWarning: Importing display from IPython.core.display is deprecated since IPython 7.14, please import from IPython display\n",
      "  from IPython.core.display import display, HTML\n"
     ]
    },
    {
     "data": {
      "text/html": [
       "<style>.container { width:100% !important; }</style>"
      ],
      "text/plain": [
       "<IPython.core.display.HTML object>"
      ]
     },
     "metadata": {},
     "output_type": "display_data"
    }
   ],
   "source": [
    "from IPython.core.display import display, HTML\n",
    "display(HTML(\"<style>.container { width:100% !important; }</style>\"))"
   ]
  },
  {
   "cell_type": "markdown",
   "id": "a780bcb6-7381-4a5d-a066-87db5561761a",
   "metadata": {},
   "source": [
    "# Factorization Machine Model"
   ]
  },
  {
   "cell_type": "code",
   "execution_count": 2,
   "id": "cf63b59a-5d9f-456a-ac66-3c0252303657",
   "metadata": {},
   "outputs": [],
   "source": [
    "import pandas as pd\n",
    "import numpy as np\n",
    "import tensorflow as tf\n",
    "from tensorflow import keras\n",
    "from tensorflow.keras.preprocessing.text import Tokenizer\n",
    "from tensorflow.keras.preprocessing.sequence import pad_sequences\n",
    "from pathlib import Path\n",
    "from zipfile import ZipFile\n",
    "!mkdir models"
   ]
  },
  {
   "cell_type": "code",
   "execution_count": 3,
   "id": "d2b023dd-09b4-4e7e-87e8-19f4c461a6d8",
   "metadata": {},
   "outputs": [
    {
     "name": "stdout",
     "output_type": "stream",
     "text": [
      "Downloading data from http://files.grouplens.org/datasets/movielens/ml-1m.zip\n"
     ]
    },
    {
     "name": "stdout",
     "output_type": "stream",
     "text": [
      "5917549/5917549 [==============================] - 4s 1us/step\n",
      "Extracting all the files now...\n",
      "Done!\n",
      "====== rating.dat ======\n",
      "   uid   mid  rating  timestamp\n",
      "0    1  1193       5  978300760\n",
      "1    1   661       3  978302109\n",
      "2    1   914       3  978301968\n",
      "3    1  3408       4  978300275\n",
      "4    1  2355       5  978824291\n",
      "===== movies.dat ======\n",
      "   mid                          movie_name                   movie_genre\n",
      "0    1                    Toy Story (1995)   Animation|Children's|Comedy\n",
      "1    2                      Jumanji (1995)  Adventure|Children's|Fantasy\n",
      "2    3             Grumpier Old Men (1995)                Comedy|Romance\n",
      "3    4            Waiting to Exhale (1995)                  Comedy|Drama\n",
      "4    5  Father of the Bride Part II (1995)                        Comedy\n",
      "====== users.dat ======\n",
      "   uid user_fea1  user_fea2  user_fea3 user_fea4\n",
      "0    1         F          1         10     48067\n",
      "1    2         M         56         16     70072\n",
      "2    3         M         25         15     55117\n",
      "3    4         M         45          7     02460\n",
      "4    5         M         25         20     55455\n",
      "====== preprocessed data =======\n"
     ]
    },
    {
     "data": {
      "text/html": [
       "<div>\n",
       "<style scoped>\n",
       "    .dataframe tbody tr th:only-of-type {\n",
       "        vertical-align: middle;\n",
       "    }\n",
       "\n",
       "    .dataframe tbody tr th {\n",
       "        vertical-align: top;\n",
       "    }\n",
       "\n",
       "    .dataframe thead th {\n",
       "        text-align: right;\n",
       "    }\n",
       "</style>\n",
       "<table border=\"1\" class=\"dataframe\">\n",
       "  <thead>\n",
       "    <tr style=\"text-align: right;\">\n",
       "      <th></th>\n",
       "      <th>uid</th>\n",
       "      <th>mid</th>\n",
       "      <th>rating</th>\n",
       "      <th>timestamp</th>\n",
       "      <th>user_fea1</th>\n",
       "      <th>user_fea2</th>\n",
       "      <th>user_fea3</th>\n",
       "      <th>user_fea4</th>\n",
       "      <th>movie_name</th>\n",
       "      <th>movie_genre</th>\n",
       "    </tr>\n",
       "  </thead>\n",
       "  <tbody>\n",
       "    <tr>\n",
       "      <th>0</th>\n",
       "      <td>1</td>\n",
       "      <td>1193</td>\n",
       "      <td>5</td>\n",
       "      <td>978300760</td>\n",
       "      <td>F</td>\n",
       "      <td>1</td>\n",
       "      <td>10</td>\n",
       "      <td>48067</td>\n",
       "      <td>One Flew Over the Cuckoo's Nest (1975)</td>\n",
       "      <td>[1, 0, 0]</td>\n",
       "    </tr>\n",
       "    <tr>\n",
       "      <th>1</th>\n",
       "      <td>2</td>\n",
       "      <td>1193</td>\n",
       "      <td>5</td>\n",
       "      <td>978298413</td>\n",
       "      <td>M</td>\n",
       "      <td>56</td>\n",
       "      <td>16</td>\n",
       "      <td>70072</td>\n",
       "      <td>One Flew Over the Cuckoo's Nest (1975)</td>\n",
       "      <td>[1, 0, 0]</td>\n",
       "    </tr>\n",
       "    <tr>\n",
       "      <th>2</th>\n",
       "      <td>12</td>\n",
       "      <td>1193</td>\n",
       "      <td>4</td>\n",
       "      <td>978220179</td>\n",
       "      <td>M</td>\n",
       "      <td>25</td>\n",
       "      <td>12</td>\n",
       "      <td>32793</td>\n",
       "      <td>One Flew Over the Cuckoo's Nest (1975)</td>\n",
       "      <td>[1, 0, 0]</td>\n",
       "    </tr>\n",
       "    <tr>\n",
       "      <th>3</th>\n",
       "      <td>15</td>\n",
       "      <td>1193</td>\n",
       "      <td>4</td>\n",
       "      <td>978199279</td>\n",
       "      <td>M</td>\n",
       "      <td>25</td>\n",
       "      <td>7</td>\n",
       "      <td>22903</td>\n",
       "      <td>One Flew Over the Cuckoo's Nest (1975)</td>\n",
       "      <td>[1, 0, 0]</td>\n",
       "    </tr>\n",
       "    <tr>\n",
       "      <th>4</th>\n",
       "      <td>17</td>\n",
       "      <td>1193</td>\n",
       "      <td>5</td>\n",
       "      <td>978158471</td>\n",
       "      <td>M</td>\n",
       "      <td>50</td>\n",
       "      <td>1</td>\n",
       "      <td>95350</td>\n",
       "      <td>One Flew Over the Cuckoo's Nest (1975)</td>\n",
       "      <td>[1, 0, 0]</td>\n",
       "    </tr>\n",
       "  </tbody>\n",
       "</table>\n",
       "</div>"
      ],
      "text/plain": [
       "   uid   mid  rating  timestamp user_fea1  user_fea2  user_fea3 user_fea4  \\\n",
       "0    1  1193       5  978300760         F          1         10     48067   \n",
       "1    2  1193       5  978298413         M         56         16     70072   \n",
       "2   12  1193       4  978220179         M         25         12     32793   \n",
       "3   15  1193       4  978199279         M         25          7     22903   \n",
       "4   17  1193       5  978158471         M         50          1     95350   \n",
       "\n",
       "                               movie_name movie_genre  \n",
       "0  One Flew Over the Cuckoo's Nest (1975)   [1, 0, 0]  \n",
       "1  One Flew Over the Cuckoo's Nest (1975)   [1, 0, 0]  \n",
       "2  One Flew Over the Cuckoo's Nest (1975)   [1, 0, 0]  \n",
       "3  One Flew Over the Cuckoo's Nest (1975)   [1, 0, 0]  \n",
       "4  One Flew Over the Cuckoo's Nest (1975)   [1, 0, 0]  "
      ]
     },
     "execution_count": 3,
     "metadata": {},
     "output_type": "execute_result"
    }
   ],
   "source": [
    "## FACTORIZATION MODELS\n",
    "\n",
    "# Download the actual data from http://files.grouplens.org/datasets/movielens/ml-latest-small.zip\"\n",
    "# Use the ratings.csv file\n",
    "movielens_data_file_url = (\n",
    "    \"http://files.grouplens.org/datasets/movielens/ml-1m.zip\"\n",
    ")\n",
    "movielens_zipped_file = keras.utils.get_file(\n",
    "    \"ml-1m.zip\", movielens_data_file_url, extract=False\n",
    ")\n",
    "keras_datasets_path = Path(movielens_zipped_file).parents[0]\n",
    "movielens_dir = keras_datasets_path / \"ml-1m\"\n",
    "\n",
    "# Only extract the data the first time the script is run.\n",
    "if not movielens_dir.exists():\n",
    "    with ZipFile(movielens_zipped_file, \"r\") as zip:\n",
    "        # Extract files\n",
    "        print(\"Extracting all the files now...\")\n",
    "        zip.extractall(path=keras_datasets_path)\n",
    "        print(\"Done!\")\n",
    "\n",
    "\n",
    "def load_ratings(movielens_dir):\n",
    "    COL_NAME = ['uid','mid','rating','timestamp']\n",
    "    df = pd.read_csv(movielens_dir / 'ratings.dat',sep='::', header=None, engine='python', names=COL_NAME)\n",
    "    return df\n",
    "\n",
    "def load_movies(movielens_dir):\n",
    "    COL_NAME = ['mid','movie_name','movie_genre']\n",
    "    df = pd.read_csv(movielens_dir / 'movies.dat',sep='::', header=None, engine='python', names=COL_NAME, encoding='latin-1')\n",
    "    return df\n",
    "\n",
    "def load_users(movielens_dir):\n",
    "    COL_NAME = ['uid','user_fea1','user_fea2','user_fea3','user_fea4']\n",
    "    df = pd.read_csv(movielens_dir / 'users.dat',sep='::', header=None, engine='python', names=COL_NAME)\n",
    "    return df\n",
    "\n",
    "def text2seq(text, n_genre):\n",
    "    \"\"\" using tokenizer to encoded the multi-level categorical feature\n",
    "    \"\"\"\n",
    "    tokenizer = Tokenizer(lower=True, split='|',filters='', num_words=n_genre)\n",
    "    tokenizer.fit_on_texts(text)\n",
    "    seq = tokenizer.texts_to_sequences(text)\n",
    "    seq = pad_sequences(seq, maxlen=3,padding='post')\n",
    "    return seq\n",
    "\n",
    "n_genre = 15\n",
    "\n",
    "\n",
    "ratings = load_ratings(movielens_dir)\n",
    "movies = load_movies(movielens_dir)\n",
    "users = load_users(movielens_dir)\n",
    "\n",
    "\n",
    "print(\"====== rating.dat ======\")\n",
    "print(ratings.head())\n",
    "print(\"===== movies.dat ======\")\n",
    "print(movies.head())\n",
    "print(\"====== users.dat ======\")\n",
    "print(users.head())\n",
    "\n",
    "movies['movie_genre'] = text2seq(movies.movie_genre.values, n_genre=n_genre).tolist()\n",
    "\n",
    "ratings = pd.merge(pd.merge(ratings, users), movies)\n",
    "\n",
    "print(\"====== preprocessed data =======\")\n",
    "ratings.head()"
   ]
  },
  {
   "cell_type": "code",
   "execution_count": 4,
   "id": "d9f981f6-a90a-4fe4-bfdf-93436e9e039f",
   "metadata": {},
   "outputs": [],
   "source": [
    "from sklearn.model_selection import train_test_split\n",
    "\n",
    "train, val = train_test_split(ratings, test_size=0.2, random_state=7)"
   ]
  },
  {
   "cell_type": "markdown",
   "id": "cbee0fe4-cc01-42cc-81d0-34dd22299e1c",
   "metadata": {},
   "source": [
    "## Define input layers\n",
    "The dataset contains a **numeric** and **categerical** features, they need to be treated differently.\n",
    "\n",
    "* **numeric features** can be concatenated to inputs, with shape (None, num_of_numeric)\n",
    "* **categorical features** can be encoded individually to inputs, with shape (None, 1) each."
   ]
  },
  {
   "cell_type": "code",
   "execution_count": 5,
   "id": "ce648050-b460-41e6-9e20-aab2c71ad479",
   "metadata": {},
   "outputs": [],
   "source": [
    "import tensorflow.keras.backend as K\n",
    "from tensorflow.keras.models import Model\n",
    "from tensorflow.keras.layers import *\n",
    "\n",
    "def define_input_layers():\n",
    "    # numerical features\n",
    "    fea3_input = Input((1,), name = 'input_fea3')\n",
    "    num_inputs = [fea3_input]\n",
    "    # single level categorical features\n",
    "    uid_input = Input((1,), name = 'input_uid') #user_id\n",
    "    mid_input = Input((1,), name= 'input_mid')  #movie_id\n",
    "    cat_sl_inputs = [uid_input, mid_input]\n",
    "\n",
    "    # multi level categorical features (with 3 genres at most)\n",
    "    genre_input = Input((3,), name = 'input_genre')\n",
    "    cat_ml_inputs = [genre_input]\n",
    "\n",
    "    inputs = num_inputs + cat_sl_inputs + cat_ml_inputs\n",
    "    \n",
    "    return inputs\n",
    "\n",
    "inputs = define_input_layers()"
   ]
  },
  {
   "cell_type": "markdown",
   "id": "e6174677-bd59-4960-8050-bc1d3aadd383",
   "metadata": {},
   "source": [
    "## 1st order factorization machines\n",
    "1st order will require features to map to a scalar. so for:\n",
    "\n",
    "* numeric feature: a dense layer will convert tensor to shape (None,1)\n",
    "* categorical feature: a embedding layer will convert tensor to shape (None,1,1) and then reshape layer to reshape to (None,1)"
   ]
  },
  {
   "cell_type": "code",
   "execution_count": 6,
   "id": "f3802ab7-d36f-4a89-848b-8945c579e9c9",
   "metadata": {},
   "outputs": [],
   "source": [
    "def Tensor_Mean_Pooling(name = 'mean_pooling', keepdims = False):\n",
    "    return Lambda(lambda x: K.mean(x, axis = 1, keepdims=keepdims), name = name)\n",
    "\n",
    "def fm_1d(inputs, n_uid, n_mid, n_genre):\n",
    "    \n",
    "    # user feat3 + user embedding + movie embedding + genre embedding\n",
    "    fea3_input, uid_input, mid_input, genre_input = inputs\n",
    "    \n",
    "    # all tensors are reshape to (None, 1)\n",
    "    num_dense_1d = [Dense(1, name = 'num_dense_1d_fea4')(fea3_input)]\n",
    "    cat_sl_embed_1d = [Embedding(n_uid + 1, 1, name = 'cat_embed_1d_uid')(uid_input),\n",
    "                        Embedding(n_mid + 1, 1, name = 'cat_embed_1d_mid')(mid_input)]\n",
    "    cat_ml_embed_1d = [Embedding(n_genre + 1, 1, mask_zero=True, name = 'cat_embed_1d_genre')(genre_input)]\n",
    "\n",
    "    cat_sl_embed_1d = [Reshape((1,))(i) for i in cat_sl_embed_1d]\n",
    "    cat_ml_embed_1d = [Tensor_Mean_Pooling(name = 'embed_1d_mean')(i) for i in cat_ml_embed_1d]\n",
    "    \n",
    "    # add all tensors\n",
    "    y_fm_1d = Add(name = 'fm_1d_output')(num_dense_1d + cat_sl_embed_1d + cat_ml_embed_1d)\n",
    "    \n",
    "    return y_fm_1d\n",
    "\n",
    "y_1d = fm_1d(inputs, 10, 10, 10)"
   ]
  },
  {
   "cell_type": "markdown",
   "id": "71f9acdd-f8b3-4fcc-aa63-38b3853c8965",
   "metadata": {},
   "source": [
    "## 2nd order factorization machines\n",
    "In 2nd order FM, each feature is map to shape (None, 1, k) and then stack to concat_embed_2d layer with shape (None, p, k).\n",
    "k - matrix factorization latent dimension, p is feature dimension.\n",
    "\n",
    "the calculation of interaction terms can be simplified, using\n",
    "\\begin{equation*} \\sum{x_ix_j} = \\frac{1}{2} \\left((\\sum{x})^2 - \\sum({x}^2)\\right) \\end{equation*}\n",
    "\n",
    "Hence, the sum of 2nd order interactions = square of sum of concat_embed_2d - sum of squared concat_embed_2d in p dimension, the resulting tensor will have a shape (None, k)\n",
    "\n"
   ]
  },
  {
   "cell_type": "code",
   "execution_count": 7,
   "id": "5e3ff7ec-d2d4-489b-a3d5-48d0270757a9",
   "metadata": {},
   "outputs": [],
   "source": [
    "def fm_2d(inputs, n_uid, n_mid, n_genre, k):\n",
    "    \n",
    "    fea3_input, uid_input, mid_input, genre_input = inputs\n",
    "    \n",
    "    num_dense_2d = [Dense(k, name = 'num_dense_2d_fea3')(fea3_input)] # shape (None, k)\n",
    "    num_dense_2d = [Reshape((1,k))(i) for i in num_dense_2d] # shape (None, 1, k)\n",
    "\n",
    "    cat_sl_embed_2d = [Embedding(n_uid + 1, k, name = 'cat_embed_2d_uid')(uid_input), \n",
    "                       Embedding(n_mid + 1, k, name = 'cat_embed_2d_mid')(mid_input)] # shape (None, 1, k)\n",
    "    \n",
    "    cat_ml_embed_2d = [Embedding(n_genre + 1, k, name = 'cat_embed_2d_genre')(genre_input)] # shape (None, 3, k)\n",
    "    cat_ml_embed_2d = [Tensor_Mean_Pooling(name = 'cat_embed_2d_genure_mean', keepdims=True)(i) for i in cat_ml_embed_2d] # shape (None, 1, k)\n",
    "\n",
    "    # concatenate all 2d embed layers => (None, ?, k)\n",
    "    embed_2d = Concatenate(axis=1, name = 'concat_embed_2d')(num_dense_2d + cat_sl_embed_2d + cat_ml_embed_2d)\n",
    "\n",
    "    # calcuate the interactions by simplication\n",
    "    # sum of (x1*x2) = sum of (0.5*[(xi)^2 - (xi^2)])\n",
    "    tensor_sum = Lambda(lambda x: K.sum(x, axis = 1), name = 'sum_of_tensors')\n",
    "    tensor_square = Lambda(lambda x: K.square(x), name = 'square_of_tensors')\n",
    "\n",
    "    sum_of_embed = tensor_sum(embed_2d)\n",
    "    square_of_embed = tensor_square(embed_2d)\n",
    "\n",
    "    square_of_sum = Multiply()([sum_of_embed, sum_of_embed])\n",
    "    sum_of_square = tensor_sum(square_of_embed)\n",
    "\n",
    "    sub = Subtract()([square_of_sum, sum_of_square])\n",
    "    sub = Lambda(lambda x: x*0.5)(sub)\n",
    "    y_fm_2d = Reshape((1,), name = 'fm_2d_output')(tensor_sum(sub))\n",
    "    \n",
    "    return y_fm_2d, embed_2d\n",
    "\n",
    "y_fm2_d, embed_2d = fm_2d(inputs, 10, 10, 10, 5)"
   ]
  },
  {
   "cell_type": "markdown",
   "id": "eda1462c-5c6a-4119-b6c4-dd01234170e9",
   "metadata": {},
   "source": [
    "## Put together"
   ]
  },
  {
   "cell_type": "code",
   "execution_count": 8,
   "id": "8cffd46d-ff84-4b19-b5d0-f0ef0860b3f0",
   "metadata": {},
   "outputs": [],
   "source": [
    "def fm_model(n_uid, n_mid, n_genre, k, dnn_dr):\n",
    "    \n",
    "    inputs = define_input_layers()\n",
    "    \n",
    "    y_fm_1d = fm_1d(inputs, n_uid, n_mid, n_genre)\n",
    "    y_fm_2d, embed_2d = fm_2d(inputs, n_uid, n_mid, n_genre, k)\n",
    "    \n",
    "    \n",
    "    # combinded deep and fm parts\n",
    "    y = Concatenate()([y_fm_1d, y_fm_2d])\n",
    "    y = Dense(1, name = 'fm_output')(y)\n",
    "    \n",
    "    fm_model_1d = Model(inputs, y_fm_1d)\n",
    "    fm_model_2d = Model(inputs, y_fm_2d)\n",
    "    fm_model = Model(inputs, y)\n",
    "    \n",
    "    return fm_model_1d, fm_model_2d, fm_model"
   ]
  },
  {
   "cell_type": "code",
   "execution_count": 9,
   "id": "62f13199-0f81-46b5-9350-0d63bd330b51",
   "metadata": {},
   "outputs": [],
   "source": [
    "params = {\n",
    "    'n_uid': ratings.uid.max(),\n",
    "    'n_mid': ratings.mid.max(),\n",
    "    'n_genre': 14,\n",
    "    'k':20,\n",
    "    'dnn_dr': 0.5\n",
    "}\n",
    "\n",
    "fm_model_1d, fm_model_2d, fm_model = fm_model(**params)"
   ]
  },
  {
   "cell_type": "code",
   "execution_count": 10,
   "id": "08580b64-c5a5-4bc9-bc99-5202688f2145",
   "metadata": {},
   "outputs": [
    {
     "data": {
      "text/plain": [
       "{'n_uid': 6040, 'n_mid': 3952, 'n_genre': 14, 'k': 20, 'dnn_dr': 0.5}"
      ]
     },
     "execution_count": 10,
     "metadata": {},
     "output_type": "execute_result"
    }
   ],
   "source": [
    "params"
   ]
  },
  {
   "cell_type": "markdown",
   "id": "c16feee8-07fa-45a7-ae43-d0aeb44166f0",
   "metadata": {},
   "source": [
    "## Prepare Data"
   ]
  },
  {
   "cell_type": "markdown",
   "id": "dfa13ac7-6109-4256-90cc-16e45ddf20ad",
   "metadata": {},
   "source": [
    "### Split Data"
   ]
  },
  {
   "cell_type": "code",
   "execution_count": 11,
   "id": "008f87b1-624f-4462-9ba8-c60e17190f47",
   "metadata": {},
   "outputs": [],
   "source": [
    "def df2xy(ratings):\n",
    "    x = [ratings.user_fea3.values, \n",
    "         ratings.uid.values, \n",
    "         ratings.mid.values, \n",
    "         np.concatenate(ratings.movie_genre.values).reshape(-1,3)]\n",
    "    y = ratings.rating.values\n",
    "    return x,y\n",
    "\n",
    "train_x, train_y = df2xy(train)\n",
    "valid_x, valid_y = df2xy(val)"
   ]
  },
  {
   "cell_type": "markdown",
   "id": "dd32f9e8-448f-4500-9ff6-c6d335cc722b",
   "metadata": {},
   "source": [
    "## Train Model"
   ]
  },
  {
   "cell_type": "code",
   "execution_count": 12,
   "id": "8fffc746-7a5a-4b25-b1ed-8ac5c481f535",
   "metadata": {},
   "outputs": [
    {
     "name": "stdout",
     "output_type": "stream",
     "text": [
      "Epoch 1/30\n",
      "391/391 [==============================] - 5s 8ms/step - loss: 2.6696 - val_loss: 1.0967\n",
      "Epoch 2/30\n",
      "391/391 [==============================] - 3s 7ms/step - loss: 0.9901 - val_loss: 0.9433\n",
      "Epoch 3/30\n",
      "391/391 [==============================] - 3s 7ms/step - loss: 0.9136 - val_loss: 0.8953\n",
      "Epoch 4/30\n",
      "391/391 [==============================] - 3s 7ms/step - loss: 0.8744 - val_loss: 0.8622\n",
      "Epoch 5/30\n",
      "391/391 [==============================] - 3s 7ms/step - loss: 0.8474 - val_loss: 0.8428\n",
      "Epoch 6/30\n",
      "391/391 [==============================] - 3s 8ms/step - loss: 0.8315 - val_loss: 0.8342\n",
      "Epoch 7/30\n",
      "391/391 [==============================] - 3s 8ms/step - loss: 0.8225 - val_loss: 0.8283\n",
      "Epoch 8/30\n",
      "391/391 [==============================] - 3s 8ms/step - loss: 0.8169 - val_loss: 0.8249\n",
      "Epoch 9/30\n",
      "391/391 [==============================] - 5s 12ms/step - loss: 0.8123 - val_loss: 0.8220\n",
      "Epoch 10/30\n",
      "391/391 [==============================] - 4s 11ms/step - loss: 0.8078 - val_loss: 0.8175\n",
      "Epoch 11/30\n",
      "391/391 [==============================] - 3s 8ms/step - loss: 0.8027 - val_loss: 0.8134\n",
      "Epoch 12/30\n",
      "391/391 [==============================] - 3s 8ms/step - loss: 0.7971 - val_loss: 0.8094\n",
      "Epoch 13/30\n",
      "391/391 [==============================] - 3s 8ms/step - loss: 0.7906 - val_loss: 0.8046\n",
      "Epoch 14/30\n",
      "391/391 [==============================] - 3s 8ms/step - loss: 0.7834 - val_loss: 0.8000\n",
      "Epoch 15/30\n",
      "391/391 [==============================] - 4s 11ms/step - loss: 0.7752 - val_loss: 0.7947\n",
      "Epoch 16/30\n",
      "391/391 [==============================] - 4s 10ms/step - loss: 0.7660 - val_loss: 0.7888\n",
      "Epoch 17/30\n",
      "391/391 [==============================] - 4s 9ms/step - loss: 0.7552 - val_loss: 0.7828\n",
      "Epoch 18/30\n",
      "391/391 [==============================] - 4s 9ms/step - loss: 0.7429 - val_loss: 0.7743\n",
      "Epoch 19/30\n",
      "391/391 [==============================] - 3s 9ms/step - loss: 0.7297 - val_loss: 0.7686\n",
      "Epoch 20/30\n",
      "391/391 [==============================] - 4s 11ms/step - loss: 0.7159 - val_loss: 0.7632\n",
      "Epoch 21/30\n",
      "391/391 [==============================] - 4s 10ms/step - loss: 0.7021 - val_loss: 0.7599\n",
      "Epoch 22/30\n",
      "391/391 [==============================] - 3s 9ms/step - loss: 0.6888 - val_loss: 0.7538\n",
      "Epoch 23/30\n",
      "391/391 [==============================] - 3s 9ms/step - loss: 0.6756 - val_loss: 0.7514\n",
      "Epoch 24/30\n",
      "391/391 [==============================] - 3s 8ms/step - loss: 0.6625 - val_loss: 0.7507\n",
      "Epoch 25/30\n",
      "391/391 [==============================] - 3s 8ms/step - loss: 0.6495 - val_loss: 0.7506\n",
      "Epoch 26/30\n",
      "391/391 [==============================] - 3s 7ms/step - loss: 0.6363 - val_loss: 0.7509\n",
      "Epoch 27/30\n",
      "391/391 [==============================] - 3s 7ms/step - loss: 0.6232 - val_loss: 0.7521\n",
      "Epoch 28/30\n",
      "391/391 [==============================] - 3s 7ms/step - loss: 0.6106 - val_loss: 0.7540\n"
     ]
    }
   ],
   "source": [
    "from tensorflow.keras.callbacks import  EarlyStopping, ModelCheckpoint\n",
    "# train  model\n",
    "fm_model.compile(\n",
    "    loss=tf.keras.losses.MeanSquaredError(), optimizer=keras.optimizers.Adam(learning_rate=0.001)\n",
    ")\n",
    "early_stop = EarlyStopping(monitor='val_loss', patience=3)\n",
    "model_ckp = ModelCheckpoint(filepath='./models/deepfm_weights.h5', \n",
    "                            monitor='val_loss',\n",
    "                            save_weights_only=True, \n",
    "                            save_best_only=True)\n",
    "callbacks = [model_ckp,early_stop]\n",
    "train_history = fm_model.fit(train_x, train_y, \n",
    "                                  epochs=30, batch_size=2048, \n",
    "                                  validation_data=(valid_x, valid_y),\n",
    "                                  callbacks = callbacks)"
   ]
  }
 ],
 "metadata": {
  "kernelspec": {
   "display_name": "Python 3 (ipykernel)",
   "language": "python",
   "name": "python3"
  },
  "language_info": {
   "codemirror_mode": {
    "name": "ipython",
    "version": 3
   },
   "file_extension": ".py",
   "mimetype": "text/x-python",
   "name": "python",
   "nbconvert_exporter": "python",
   "pygments_lexer": "ipython3",
   "version": "3.9.18"
  }
 },
 "nbformat": 4,
 "nbformat_minor": 5
}

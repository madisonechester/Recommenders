{
 "cells": [
  {
   "cell_type": "markdown",
   "metadata": {},
   "source": [
    "<small><i>Updated February 2023 - This notebook was created by [Santi Seguí](https://ssegui.github.io/). </i></small>"
   ]
  },
  {
   "cell_type": "code",
   "execution_count": 1,
   "metadata": {},
   "outputs": [
    {
     "name": "stderr",
     "output_type": "stream",
     "text": [
      "C:\\Users\\mecheste\\AppData\\Local\\Temp\\ipykernel_17832\\3777615979.py:1: DeprecationWarning: Importing display from IPython.core.display is deprecated since IPython 7.14, please import from IPython display\n",
      "  from IPython.core.display import display, HTML\n"
     ]
    },
    {
     "data": {
      "text/html": [
       "<style>.container { width:100% !important; }</style>"
      ],
      "text/plain": [
       "<IPython.core.display.HTML object>"
      ]
     },
     "metadata": {},
     "output_type": "display_data"
    }
   ],
   "source": [
    "from IPython.core.display import display, HTML\n",
    "display(HTML(\"<style>.container { width:100% !important; }</style>\"))"
   ]
  },
  {
   "cell_type": "markdown",
   "metadata": {},
   "source": [
    "## Item association recommendation\n",
    "### Example:\n",
    "<img src=\"images/np3.png\" width=70%>\n"
   ]
  },
  {
   "cell_type": "code",
   "execution_count": 2,
   "metadata": {},
   "outputs": [
    {
     "name": "stdout",
     "output_type": "stream",
     "text": [
      "Number of different items 171\n",
      "Number of rows  9835\n",
      "An example: ['pip fruit', 'yogurt', 'cream cheese ', 'meat spreads']\n"
     ]
    }
   ],
   "source": [
    "#Let's read a dataset which contains several market baskets lists\n",
    "\n",
    "# read data/grocieries.csv\n",
    "def union(a, b):\n",
    "    \"\"\" return the union of two lists \"\"\"\n",
    "    return list(set(a) | set(b))\n",
    "\n",
    "market_data = []\n",
    "cont = 0\n",
    "items = []\n",
    "with open(\"./data/groceries.csv\") as f:\n",
    "    for l in f:\n",
    "        market_data.append(l.rstrip().split(','))\n",
    "        items = union(items,l.rstrip().split(','))\n",
    "\n",
    "print(\"Number of different items\", len(items))\n",
    "print(\"Number of rows \", len(market_data))\n",
    "\n",
    "\n",
    "print(\"An example:\", market_data[3])"
   ]
  },
  {
   "cell_type": "markdown",
   "metadata": {},
   "source": [
    "One of the most simple ways to found association between product could be obtained as follows: $$score(Y|X) = \\frac{X \\ and \\ Y}{X}$$"
   ]
  },
  {
   "cell_type": "code",
   "execution_count": 3,
   "metadata": {},
   "outputs": [],
   "source": [
    "# Which is the top associated product with \"yogurt\"?"
   ]
  },
  {
   "cell_type": "code",
   "execution_count": 4,
   "metadata": {},
   "outputs": [],
   "source": [
    "from collections import defaultdict\n",
    "\n",
    "# Which is the top associated product with \"yogurt\"?\n",
    "def top_associated_products(dataset, product,N = 5):\n",
    "    d = defaultdict(lambda: 0) # dictionary for the items \n",
    "    product_times = 0\n",
    "    for basket in dataset: # for each basket case \n",
    "        if product in basket:  # for those who contains the product\n",
    "            product_times += 1\n",
    "            for i in basket:   # x and y together\n",
    "                if i != product: \n",
    "                    d[i] += 1  \n",
    "    for k in d:\n",
    "        d[k] =   float(d[k] / product_times) # (X and Y) / X\n",
    "    sorted_list=sorted(d.items(), key=lambda x: x[1],reverse=True)\n",
    "    return sorted_list[:N]"
   ]
  },
  {
   "cell_type": "code",
   "execution_count": 5,
   "metadata": {},
   "outputs": [
    {
     "name": "stdout",
     "output_type": "stream",
     "text": [
      "[('whole milk', 0.40160349854227406), ('other vegetables', 0.3112244897959184), ('rolls/buns', 0.24635568513119532)]\n"
     ]
    }
   ],
   "source": [
    "s = top_associated_products(market_data, 'yogurt',N = 3)\n",
    "print(s)"
   ]
  },
  {
   "cell_type": "code",
   "execution_count": 6,
   "metadata": {},
   "outputs": [
    {
     "name": "stdout",
     "output_type": "stream",
     "text": [
      "[('whole milk', 0.6133333333333333), ('other vegetables', 0.52), ('root vegetables', 0.41333333333333333)]\n"
     ]
    }
   ],
   "source": [
    "s = top_associated_products(market_data, 'rice',N = 3)\n",
    "print(s)"
   ]
  },
  {
   "cell_type": "code",
   "execution_count": 7,
   "metadata": {},
   "outputs": [
    {
     "name": "stdout",
     "output_type": "stream",
     "text": [
      "[('whole milk', 0.38636363636363635), ('other vegetables', 0.3409090909090909), ('tropical fruit', 0.20454545454545456)]\n"
     ]
    }
   ],
   "source": [
    "s = top_associated_products(market_data, 'rum',N = 3)\n",
    "print(s)"
   ]
  },
  {
   "cell_type": "markdown",
   "metadata": {},
   "source": [
    "### What happens? \n",
    "Is it a good measure? It has a problem with popular items...\n",
    "<br>\n",
    "Let's check this other formula:\n",
    "$$score(Y|X) = \\frac{ \\frac{X \\ and \\ Y}{X}} {  \\frac{!X \\ and \\ Y}{!X} }  $$"
   ]
  },
  {
   "cell_type": "code",
   "execution_count": 8,
   "metadata": {},
   "outputs": [],
   "source": [
    "def top_associated_products2(dataset, product,N = 5):\n",
    "    prob_yx = defaultdict(lambda:0)\n",
    "    not_x_y = defaultdict(lambda:0)\n",
    "    x_y = defaultdict(lambda:0)\n",
    "    x, not_x = 0,0\n",
    "\n",
    "    for basket in dataset:\n",
    "        if product in basket: \n",
    "            x += 1\n",
    "            for i in basket:\n",
    "                if i != product:\n",
    "                    x_y[i] += 1.0\n",
    "        else:\n",
    "            not_x += 1 \n",
    "            for i in basket:\n",
    "                not_x_y[i] += 1\n",
    "\n",
    "    for k in x_y:\n",
    "        if (not_x_y[k] == 0): # special case\n",
    "            prob_yx[k] = x\n",
    "        else:\n",
    "            prob_yx[k] = (x_y[k] * not_x)/(x + not_x_y[k])\n",
    "\n",
    "    return sorted(prob_yx.items(), key = lambda x: x[1], reverse = True)[:N]"
   ]
  },
  {
   "cell_type": "code",
   "execution_count": 9,
   "metadata": {},
   "outputs": [
    {
     "name": "stdout",
     "output_type": "stream",
     "text": [
      "[('whole milk', 1398.6541691661669), ('baby food', 1372), ('other vegetables', 1268.8556882022472)]\n",
      "[('canned fruit', 379.02912621359224), ('turkey', 325.3333333333333), ('hard cheese', 318.9542483660131)]\n",
      "[('artif. sweetener', 264.6216216216216), ('frozen dessert', 199.81632653061226), ('liquor', 195.82)]\n"
     ]
    }
   ],
   "source": [
    "s = top_associated_products2(market_data, 'yogurt',N = 3)\n",
    "print(s)\n",
    "\n",
    "s = top_associated_products2(market_data, 'rice',N = 3)\n",
    "print(s)\n",
    "\n",
    "# Which is the top associated prouct with \"rum\"?\n",
    "s = top_associated_products2(market_data, 'rum',N = 3)\n",
    "print(s)"
   ]
  },
  {
   "cell_type": "markdown",
   "metadata": {},
   "source": [
    "#### Let's check this last formula:\n",
    "$$ score(Y|X) = \\frac{P(X \\ and \\ Y)}{P(X)P(Y) }   $$"
   ]
  },
  {
   "cell_type": "code",
   "execution_count": 10,
   "metadata": {},
   "outputs": [],
   "source": [
    "def top_associated_products3(dataset, product,N = 5):\n",
    "    d = defaultdict(lambda:0)\n",
    "    times_item = defaultdict(lambda:0)\n",
    "\n",
    "    for basket in dataset:\n",
    "        for item in basket:\n",
    "            times_item[item] += 1\n",
    "            if product in basket:\n",
    "                for y in basket:\n",
    "                    if y != product:\n",
    "                        d[y] += 1\n",
    "\n",
    "    for k in d:\n",
    "        d[k] = (d[k]/len(dataset)) / ((times_item[k]/len(dataset)) * (times_item[product]/len(dataset)))\n",
    "        \n",
    "    sorted_list = sorted(d.items(), key = lambda x : x[1], reverse = True)\n",
    "\n",
    "    return sorted(d.items(), key = lambda x: x[1], reverse = True)[:N]"
   ]
  },
  {
   "cell_type": "code",
   "execution_count": 11,
   "metadata": {},
   "outputs": [
    {
     "name": "stdout",
     "output_type": "stream",
     "text": [
      "[('baby food', 186.37755102040816), ('kitchen utensil', 44.80229591836734), ('rice', 34.12142857142857)]\n",
      "[('decalcifier', 236.04000000000002), ('salad dressing', 229.48333333333335), ('specialty vegetables', 223.69803921568626)]\n",
      "[('cooking chocolate', 259.28636363636366), ('specialty vegetables', 144.63235294117646), ('artif. sweetener', 132.71661931818184)]\n"
     ]
    }
   ],
   "source": [
    "print(top_associated_products3(market_data,'yogurt',N = 3))\n",
    "print(top_associated_products3(market_data,'rice',N = 3))\n",
    "print(top_associated_products3(market_data,'rum',N = 3))"
   ]
  },
  {
   "cell_type": "markdown",
   "metadata": {},
   "source": [
    "### Exercice: Let's apply Association Rules on MovieLens Dataset"
   ]
  },
  {
   "cell_type": "code",
   "execution_count": 12,
   "metadata": {},
   "outputs": [
    {
     "data": {
      "application/javascript": "IPython.notebook.set_autosave_interval(150000)"
     },
     "metadata": {},
     "output_type": "display_data"
    },
    {
     "name": "stdout",
     "output_type": "stream",
     "text": [
      "Autosaving every 150 seconds\n"
     ]
    },
    {
     "name": "stderr",
     "output_type": "stream",
     "text": [
      "C:\\Users\\mecheste\\AppData\\Local\\Temp\\ipykernel_17832\\2948232862.py:11: ParserWarning: Falling back to the 'python' engine because the 'c' engine does not support regex separators (separators > 1 char and different from '\\s+' are interpreted as regex); you can avoid this warning by specifying engine='python'.\n",
      "  users = pd.read_csv('./data/ml-1m/users.dat', sep='::', names=u_cols)\n",
      "C:\\Users\\mecheste\\AppData\\Local\\Temp\\ipykernel_17832\\2948232862.py:14: ParserWarning: Falling back to the 'python' engine because the 'c' engine does not support regex separators (separators > 1 char and different from '\\s+' are interpreted as regex); you can avoid this warning by specifying engine='python'.\n",
      "  ratings = pd.read_csv('./data/ml-1m/ratings.dat', sep='::', names=r_cols)\n",
      "C:\\Users\\mecheste\\AppData\\Local\\Temp\\ipykernel_17832\\2948232862.py:19: ParserWarning: Falling back to the 'python' engine because the 'c' engine does not support regex separators (separators > 1 char and different from '\\s+' are interpreted as regex); you can avoid this warning by specifying engine='python'.\n",
      "  movies = pd.read_csv('./data/ml-1m/movies.dat', sep='::', names=m_cols, usecols=range(3), encoding='latin-1')\n"
     ]
    },
    {
     "name": "stdout",
     "output_type": "stream",
     "text": [
      "La BD has 1000209 ratings\n",
      "La BD has  6040  users\n",
      "La BD has  3706  movies\n"
     ]
    },
    {
     "data": {
      "text/html": [
       "<div>\n",
       "<style scoped>\n",
       "    .dataframe tbody tr th:only-of-type {\n",
       "        vertical-align: middle;\n",
       "    }\n",
       "\n",
       "    .dataframe tbody tr th {\n",
       "        vertical-align: top;\n",
       "    }\n",
       "\n",
       "    .dataframe thead th {\n",
       "        text-align: right;\n",
       "    }\n",
       "</style>\n",
       "<table border=\"1\" class=\"dataframe\">\n",
       "  <thead>\n",
       "    <tr style=\"text-align: right;\">\n",
       "      <th></th>\n",
       "      <th>user_id</th>\n",
       "      <th>title</th>\n",
       "      <th>movie_id</th>\n",
       "      <th>rating</th>\n",
       "      <th>release_date</th>\n",
       "      <th>sex</th>\n",
       "      <th>age</th>\n",
       "    </tr>\n",
       "  </thead>\n",
       "  <tbody>\n",
       "    <tr>\n",
       "      <th>0</th>\n",
       "      <td>1</td>\n",
       "      <td>One Flew Over the Cuckoo's Nest (1975)</td>\n",
       "      <td>1193</td>\n",
       "      <td>5</td>\n",
       "      <td>Drama</td>\n",
       "      <td>1</td>\n",
       "      <td>F</td>\n",
       "    </tr>\n",
       "    <tr>\n",
       "      <th>1</th>\n",
       "      <td>2</td>\n",
       "      <td>One Flew Over the Cuckoo's Nest (1975)</td>\n",
       "      <td>1193</td>\n",
       "      <td>5</td>\n",
       "      <td>Drama</td>\n",
       "      <td>56</td>\n",
       "      <td>M</td>\n",
       "    </tr>\n",
       "    <tr>\n",
       "      <th>2</th>\n",
       "      <td>12</td>\n",
       "      <td>One Flew Over the Cuckoo's Nest (1975)</td>\n",
       "      <td>1193</td>\n",
       "      <td>4</td>\n",
       "      <td>Drama</td>\n",
       "      <td>25</td>\n",
       "      <td>M</td>\n",
       "    </tr>\n",
       "    <tr>\n",
       "      <th>3</th>\n",
       "      <td>15</td>\n",
       "      <td>One Flew Over the Cuckoo's Nest (1975)</td>\n",
       "      <td>1193</td>\n",
       "      <td>4</td>\n",
       "      <td>Drama</td>\n",
       "      <td>25</td>\n",
       "      <td>M</td>\n",
       "    </tr>\n",
       "    <tr>\n",
       "      <th>4</th>\n",
       "      <td>17</td>\n",
       "      <td>One Flew Over the Cuckoo's Nest (1975)</td>\n",
       "      <td>1193</td>\n",
       "      <td>5</td>\n",
       "      <td>Drama</td>\n",
       "      <td>50</td>\n",
       "      <td>M</td>\n",
       "    </tr>\n",
       "  </tbody>\n",
       "</table>\n",
       "</div>"
      ],
      "text/plain": [
       "   user_id                                   title  movie_id  rating  \\\n",
       "0        1  One Flew Over the Cuckoo's Nest (1975)      1193       5   \n",
       "1        2  One Flew Over the Cuckoo's Nest (1975)      1193       5   \n",
       "2       12  One Flew Over the Cuckoo's Nest (1975)      1193       4   \n",
       "3       15  One Flew Over the Cuckoo's Nest (1975)      1193       4   \n",
       "4       17  One Flew Over the Cuckoo's Nest (1975)      1193       5   \n",
       "\n",
       "  release_date  sex age  \n",
       "0        Drama    1   F  \n",
       "1        Drama   56   M  \n",
       "2        Drama   25   M  \n",
       "3        Drama   25   M  \n",
       "4        Drama   50   M  "
      ]
     },
     "execution_count": 12,
     "metadata": {},
     "output_type": "execute_result"
    }
   ],
   "source": [
    "#NETFLIX REAL 50.000.000 usuaris and 100.000 items\n",
    "%autosave 150\n",
    "%matplotlib inline\n",
    "import pandas as pd\n",
    "import numpy as np\n",
    "import math\n",
    "import matplotlib.pylab as plt\n",
    "\n",
    "# Load Data set\n",
    "u_cols = ['user_id', 'age', 'sex', 'occupation', 'zip_code']\n",
    "users = pd.read_csv('./data/ml-1m/users.dat', sep='::', names=u_cols)\n",
    "\n",
    "r_cols = ['user_id', 'movie_id', 'rating', 'unix_timestamp']\n",
    "ratings = pd.read_csv('./data/ml-1m/ratings.dat', sep='::', names=r_cols)\n",
    "\n",
    "# the movies file contains columns indicating the movie's genres\n",
    "# let's only load the first three columns of the file with usecols\n",
    "m_cols = ['movie_id', 'title', 'release_date',]\n",
    "movies = pd.read_csv('./data/ml-1m/movies.dat', sep='::', names=m_cols, usecols=range(3), encoding='latin-1')\n",
    "\n",
    "# Construcció del DataFrame\n",
    "data = pd.merge(pd.merge(ratings, users), movies)\n",
    "data = data[['user_id','title', 'movie_id','rating','release_date','sex','age']]\n",
    "\n",
    "n_users = data.user_id.nunique()\n",
    "n_items = data.movie_id.nunique()\n",
    "print(\"La BD has \"+ str(data.shape[0]) +\" ratings\")\n",
    "print(\"La BD has \", n_users,\" users\")\n",
    "print(\"La BD has \", n_items, \" movies\")\n",
    "data.head()\n"
   ]
  },
  {
   "cell_type": "code",
   "execution_count": 13,
   "metadata": {},
   "outputs": [],
   "source": [
    "# Step 1: convert dataset\n",
    "\n",
    "# Step 2: Apply previous methods"
   ]
  },
  {
   "cell_type": "code",
   "execution_count": 14,
   "metadata": {},
   "outputs": [],
   "source": [
    "movies_list = []\n",
    "users = set(data.user_id)\n",
    "for user in users:\n",
    "    df = data[(data.user_id == user)&(data.rating>=4)]\n",
    "    movies_list.append(list(df.title.values))"
   ]
  },
  {
   "cell_type": "code",
   "execution_count": 15,
   "metadata": {},
   "outputs": [
    {
     "name": "stdout",
     "output_type": "stream",
     "text": [
      "[('Shawshank Redemption, The (1994)', 0.5680539932508436), ('Silence of the Lambs, The (1991)', 0.562429696287964), ('Saving Private Ryan (1998)', 0.5601799775028121), ('Sixth Sense, The (1999)', 0.5568053993250843), ('Forrest Gump (1994)', 0.5500562429696289)]\n",
      "\n",
      "[('Star Wars: Episode V - The Empire Strikes Back (1980)', 0.7475209763539283), ('Raiders of the Lost Ark (1981)', 0.6357742181540809), ('Star Wars: Episode VI - Return of the Jedi (1983)', 0.6052631578947368), ('Matrix, The (1999)', 0.5644546147978642), ('Terminator 2: Judgment Day (1991)', 0.5110602593440122)]\n"
     ]
    }
   ],
   "source": [
    "s = top_associated_products(movies_list, 'Titanic (1997)',N = 5)\n",
    "print(s)\n",
    "print()\n",
    "s = top_associated_products(movies_list, 'Star Wars: Episode IV - A New Hope (1977)',N = 5)\n",
    "print(s)"
   ]
  },
  {
   "cell_type": "code",
   "execution_count": 16,
   "metadata": {},
   "outputs": [
    {
     "data": {
      "text/html": [
       "<div>\n",
       "<style scoped>\n",
       "    .dataframe tbody tr th:only-of-type {\n",
       "        vertical-align: middle;\n",
       "    }\n",
       "\n",
       "    .dataframe tbody tr th {\n",
       "        vertical-align: top;\n",
       "    }\n",
       "\n",
       "    .dataframe thead th {\n",
       "        text-align: right;\n",
       "    }\n",
       "</style>\n",
       "<table border=\"1\" class=\"dataframe\">\n",
       "  <thead>\n",
       "    <tr style=\"text-align: right;\">\n",
       "      <th></th>\n",
       "      <th>user_id</th>\n",
       "      <th>movie_id</th>\n",
       "      <th>rating</th>\n",
       "      <th>release_date</th>\n",
       "      <th>sex</th>\n",
       "      <th>age</th>\n",
       "    </tr>\n",
       "    <tr>\n",
       "      <th>title</th>\n",
       "      <th></th>\n",
       "      <th></th>\n",
       "      <th></th>\n",
       "      <th></th>\n",
       "      <th></th>\n",
       "      <th></th>\n",
       "    </tr>\n",
       "  </thead>\n",
       "  <tbody>\n",
       "    <tr>\n",
       "      <th>American Beauty (1999)</th>\n",
       "      <td>3428</td>\n",
       "      <td>3428</td>\n",
       "      <td>3428</td>\n",
       "      <td>3428</td>\n",
       "      <td>3428</td>\n",
       "      <td>3428</td>\n",
       "    </tr>\n",
       "    <tr>\n",
       "      <th>Star Wars: Episode IV - A New Hope (1977)</th>\n",
       "      <td>2991</td>\n",
       "      <td>2991</td>\n",
       "      <td>2991</td>\n",
       "      <td>2991</td>\n",
       "      <td>2991</td>\n",
       "      <td>2991</td>\n",
       "    </tr>\n",
       "    <tr>\n",
       "      <th>Star Wars: Episode V - The Empire Strikes Back (1980)</th>\n",
       "      <td>2990</td>\n",
       "      <td>2990</td>\n",
       "      <td>2990</td>\n",
       "      <td>2990</td>\n",
       "      <td>2990</td>\n",
       "      <td>2990</td>\n",
       "    </tr>\n",
       "    <tr>\n",
       "      <th>Star Wars: Episode VI - Return of the Jedi (1983)</th>\n",
       "      <td>2883</td>\n",
       "      <td>2883</td>\n",
       "      <td>2883</td>\n",
       "      <td>2883</td>\n",
       "      <td>2883</td>\n",
       "      <td>2883</td>\n",
       "    </tr>\n",
       "    <tr>\n",
       "      <th>Jurassic Park (1993)</th>\n",
       "      <td>2672</td>\n",
       "      <td>2672</td>\n",
       "      <td>2672</td>\n",
       "      <td>2672</td>\n",
       "      <td>2672</td>\n",
       "      <td>2672</td>\n",
       "    </tr>\n",
       "    <tr>\n",
       "      <th>...</th>\n",
       "      <td>...</td>\n",
       "      <td>...</td>\n",
       "      <td>...</td>\n",
       "      <td>...</td>\n",
       "      <td>...</td>\n",
       "      <td>...</td>\n",
       "    </tr>\n",
       "    <tr>\n",
       "      <th>Target (1995)</th>\n",
       "      <td>1</td>\n",
       "      <td>1</td>\n",
       "      <td>1</td>\n",
       "      <td>1</td>\n",
       "      <td>1</td>\n",
       "      <td>1</td>\n",
       "    </tr>\n",
       "    <tr>\n",
       "      <th>I Don't Want to Talk About It (De eso no se habla) (1993)</th>\n",
       "      <td>1</td>\n",
       "      <td>1</td>\n",
       "      <td>1</td>\n",
       "      <td>1</td>\n",
       "      <td>1</td>\n",
       "      <td>1</td>\n",
       "    </tr>\n",
       "    <tr>\n",
       "      <th>An Unforgettable Summer (1994)</th>\n",
       "      <td>1</td>\n",
       "      <td>1</td>\n",
       "      <td>1</td>\n",
       "      <td>1</td>\n",
       "      <td>1</td>\n",
       "      <td>1</td>\n",
       "    </tr>\n",
       "    <tr>\n",
       "      <th>Never Met Picasso (1996)</th>\n",
       "      <td>1</td>\n",
       "      <td>1</td>\n",
       "      <td>1</td>\n",
       "      <td>1</td>\n",
       "      <td>1</td>\n",
       "      <td>1</td>\n",
       "    </tr>\n",
       "    <tr>\n",
       "      <th>Full Speed (1996)</th>\n",
       "      <td>1</td>\n",
       "      <td>1</td>\n",
       "      <td>1</td>\n",
       "      <td>1</td>\n",
       "      <td>1</td>\n",
       "      <td>1</td>\n",
       "    </tr>\n",
       "  </tbody>\n",
       "</table>\n",
       "<p>3706 rows × 6 columns</p>\n",
       "</div>"
      ],
      "text/plain": [
       "                                                    user_id  movie_id  rating  \\\n",
       "title                                                                           \n",
       "American Beauty (1999)                                 3428      3428    3428   \n",
       "Star Wars: Episode IV - A New Hope (1977)              2991      2991    2991   \n",
       "Star Wars: Episode V - The Empire Strikes Back ...     2990      2990    2990   \n",
       "Star Wars: Episode VI - Return of the Jedi (1983)      2883      2883    2883   \n",
       "Jurassic Park (1993)                                   2672      2672    2672   \n",
       "...                                                     ...       ...     ...   \n",
       "Target (1995)                                             1         1       1   \n",
       "I Don't Want to Talk About It (De eso no se hab...        1         1       1   \n",
       "An Unforgettable Summer (1994)                            1         1       1   \n",
       "Never Met Picasso (1996)                                  1         1       1   \n",
       "Full Speed (1996)                                         1         1       1   \n",
       "\n",
       "                                                    release_date   sex   age  \n",
       "title                                                                         \n",
       "American Beauty (1999)                                      3428  3428  3428  \n",
       "Star Wars: Episode IV - A New Hope (1977)                   2991  2991  2991  \n",
       "Star Wars: Episode V - The Empire Strikes Back ...          2990  2990  2990  \n",
       "Star Wars: Episode VI - Return of the Jedi (1983)           2883  2883  2883  \n",
       "Jurassic Park (1993)                                        2672  2672  2672  \n",
       "...                                                          ...   ...   ...  \n",
       "Target (1995)                                                  1     1     1  \n",
       "I Don't Want to Talk About It (De eso no se hab...             1     1     1  \n",
       "An Unforgettable Summer (1994)                                 1     1     1  \n",
       "Never Met Picasso (1996)                                       1     1     1  \n",
       "Full Speed (1996)                                              1     1     1  \n",
       "\n",
       "[3706 rows x 6 columns]"
      ]
     },
     "execution_count": 16,
     "metadata": {},
     "output_type": "execute_result"
    }
   ],
   "source": [
    "data.groupby(by = 'title').count().sort_values(by = 'user_id', ascending = False)"
   ]
  },
  {
   "cell_type": "markdown",
   "metadata": {},
   "source": [
    "## APRIORI Algorithm\n",
    "Typically, association rules are considered interesting if they satisfy both a minimum support threshold and a minimum confidence threshold\n",
    "\n",
    "![alt apriori](images/apriori.png)\n",
    "\n",
    "<b>Apriori principle</b>: Any subset of a frequent itemset must be frequent\n",
    "\n",
    "> Step 1: Find the frequent itemsset: the set of items that have minimum support.\n",
    "> -  A subset of a frequent itemset must also be a frequent itemset  i.e. if {1,2} is a frequent itemset, both {1} and {2} should be a frequent itemset\n",
    "> - Iteratively find frequent itemsets with cardinality from 1 to k (k-itemset)\n",
    "\n",
    "> Step 2: Use the frequent itemsets to generate association rules\n",
    "\n",
    "![alt apriori2](images/apriori2.png)\n",
    "\n",
    "Reference : \n",
    "[Fast algorithms for mining association rules](http://www-cgi.cs.cmu.edu/afs/cs.cmu.edu/Web/People/ngm/15-721/summaries/12.pdf)\n"
   ]
  },
  {
   "cell_type": "code",
   "execution_count": 17,
   "metadata": {},
   "outputs": [],
   "source": [
    "from itertools import chain, combinations\n",
    "\n",
    "def dataFromFile(fname):\n",
    "    \"\"\"Function which reads from the file and yields a generator\"\"\"\n",
    "    file_iter = open(fname, 'r')\n",
    "    for line in file_iter:\n",
    "        line = line.strip().rstrip(',')                         # Remove trailing comma\n",
    "        record = frozenset(line.split(','))\n",
    "        yield record\n",
    "                \n",
    "def getItemSetTransactionList(data_iterator):\n",
    "    \"\"\"Generate 1-itemSets\"\"\"\n",
    "    transactionList = list()\n",
    "    itemSet = set()\n",
    "    for record in data_iterator:\n",
    "        transaction = frozenset(record)\n",
    "        transactionList.append(transaction)\n",
    "        for item in transaction:\n",
    "            itemSet.add(frozenset([item]))              # Generate 1-itemSets\n",
    "    return itemSet, transactionList\n",
    "                \n",
    "def apriori(data_iterator, min_support, min_confidence, method = 'confidence'):\n",
    "    \"\"\"A-priori method\"\"\"\n",
    "    def returnItemsWithMinSupport(itemSet, transactionList, min_support, freqSet):\n",
    "        \"\"\"calculates the support for items in the itemSet and returns a subset\n",
    "       of the itemSet each of whose elements satisfies the minimum support\"\"\"\n",
    "        _itemSet = set()\n",
    "        localSet = defaultdict(int)\n",
    "\n",
    "        for item in itemSet:\n",
    "                for transaction in transactionList:\n",
    "                        if item.issubset(transaction):\n",
    "                                freqSet[item] += 1\n",
    "                                localSet[item] += 1\n",
    "\n",
    "        for item, count in localSet.items():\n",
    "                support = float(count)/len(transactionList)\n",
    "\n",
    "                if support >= min_support:\n",
    "                        _itemSet.add(item)\n",
    "\n",
    "        return _itemSet\n",
    "    \n",
    "    def joinSet(itemSet, length):\n",
    "        \"\"\"Join a set with itself and returns the n-element itemsets\"\"\"\n",
    "        return set([i.union(j) for i in itemSet for j in itemSet if len(i.union(j)) == length])\n",
    "    \n",
    "    def getSupport(item):\n",
    "        \"\"\"local function which Returns the support of an item\"\"\"\n",
    "        return float(freqSet[item])/len(transactionList)\n",
    "    \n",
    "    def subsets(arr):\n",
    "        \"\"\" Returns non empty subsets of arr\"\"\"\n",
    "        return chain(*[combinations(arr, i + 1) for i, a in enumerate(arr)])\n",
    "\n",
    "    \n",
    "    itemSet, transactionList = getItemSetTransactionList(data_iterator)\n",
    "    freqSet = defaultdict(int)\n",
    "    largeSet = dict()\n",
    "    # Global dictionary which stores (key=n-itemSets,value=support)\n",
    "    # which satisfy min_support\n",
    "    \n",
    "    assocRules = dict()\n",
    "    \n",
    "    # Step 1: Find the frequent itemsset: the set of items that have minimum support.\n",
    "    oneCSet = returnItemsWithMinSupport(itemSet,transactionList,min_support,freqSet)\n",
    "    currentLSet = oneCSet\n",
    "    \n",
    "    k = 2\n",
    "    while(currentLSet != set([])): # while there is pontential new associations\n",
    "        largeSet[k-1] = currentLSet\n",
    "        currentLSet = joinSet(currentLSet, k)\n",
    "        currentCSet = returnItemsWithMinSupport(currentLSet,transactionList,min_support, freqSet)\n",
    "        currentLSet = currentCSet\n",
    "        k = k + 1\n",
    "    \n",
    "    toRetItems = []\n",
    "    for key, value in list(largeSet.items()):\n",
    "        toRetItems.extend([(tuple(item), getSupport(item))\n",
    "                           for item in value])\n",
    "\n",
    "\n",
    "    ## Step 2: Use the frequent itemsets to generate association rules\n",
    "    toRetRules = defaultdict(lambda: [])\n",
    "    for key in list(largeSet.keys()):\n",
    "        if key!=1: #for itemsets with two or more elements\n",
    "            for item in largeSet[key]:\n",
    "                for element in item:\n",
    "                    remain = item-frozenset([element])\n",
    "                    if method == 'confidence':\n",
    "                        confidence = getSupport(item)/getSupport(remain)\n",
    "                    elif method == 'lift':\n",
    "                        confidence = getSupport(item)/(getSupport(remain)*getSupport(frozenset([element]))) ## lift\n",
    "                        #print(\"NOT IMPLEMENTED\")\n",
    "                        #return [],[] \n",
    "                    else:\n",
    "                        print(\"Not Valid Method\")\n",
    "                        return [],[] \n",
    "                    \n",
    "                    if confidence >= min_confidence:\n",
    "                        toRetRules[tuple(remain)].append((tuple([element]),confidence))\n",
    "    \n",
    "    return toRetItems, toRetRules\n",
    "\n",
    "def printResults(items, rules, only_rules = True):\n",
    "    \"\"\"prints the generated itemsets sorted by support and the confidence rules sorted by confidence\"\"\"\n",
    "    if(len(items)>0):\n",
    "        if(only_rules ==False):\n",
    "            for item, support in sorted(items, key = lambda x: float(x[1])):\n",
    "                print(\"item: %s , %.3f\" % (str(item), support))\n",
    "        print(\"\\n------------------------ RULES:\")\n",
    "        for pre, post in sorted([(key, v) for key,values in rules.items() for v in values ],\n",
    "                                       key=lambda x: float(x[1][1])):\n",
    "            print(\"Rule: %s ==> %s , %.3f\" % (str(pre), str(post[0]), post[1]))\n",
    "        \n",
    "                \n"
   ]
  },
  {
   "cell_type": "code",
   "execution_count": 18,
   "metadata": {
    "scrolled": false
   },
   "outputs": [
    {
     "name": "stdout",
     "output_type": "stream",
     "text": [
      "\n",
      "------------------------ RULES:\n",
      "Rule: ('rolls/buns',) ==> ('whole milk',) , 0.308\n",
      "Rule: ('berries',) ==> ('other vegetables',) , 0.309\n",
      "Rule: ('whole milk', 'other vegetables') ==> ('root vegetables',) , 0.310\n",
      "Rule: ('bottled water',) ==> ('whole milk',) , 0.311\n",
      "Rule: ('yogurt',) ==> ('other vegetables',) , 0.311\n",
      "Rule: ('dessert',) ==> ('other vegetables',) , 0.312\n",
      "Rule: ('whole milk', 'bottled water') ==> ('other vegetables',) , 0.314\n",
      "Rule: ('whole milk', 'rolls/buns') ==> ('other vegetables',) , 0.316\n",
      "Rule: ('berries',) ==> ('yogurt',) , 0.318\n",
      "Rule: ('pastry', 'whole milk') ==> ('other vegetables',) , 0.318\n",
      "Rule: ('sausage',) ==> ('whole milk',) , 0.318\n",
      "Rule: ('sugar',) ==> ('other vegetables',) , 0.318\n",
      "Rule: ('coffee',) ==> ('whole milk',) , 0.322\n",
      "Rule: ('curd',) ==> ('other vegetables',) , 0.323\n",
      "Rule: ('curd',) ==> ('yogurt',) , 0.324\n",
      "Rule: ('cream cheese ',) ==> ('yogurt',) , 0.325\n",
      "Rule: ('sausage',) ==> ('rolls/buns',) , 0.326\n",
      "Rule: ('frankfurter',) ==> ('rolls/buns',) , 0.326\n",
      "Rule: ('white bread',) ==> ('other vegetables',) , 0.326\n",
      "Rule: ('waffles',) ==> ('whole milk',) , 0.331\n",
      "Rule: ('beef',) ==> ('root vegetables',) , 0.331\n",
      "Rule: ('rolls/buns', 'yogurt') ==> ('other vegetables',) , 0.334\n",
      "Rule: ('chocolate',) ==> ('whole milk',) , 0.336\n",
      "Rule: ('whole milk', 'citrus fruit') ==> ('yogurt',) , 0.337\n",
      "Rule: ('margarine',) ==> ('other vegetables',) , 0.337\n",
      "Rule: ('whipped/sour cream', 'whole milk') ==> ('yogurt',) , 0.338\n",
      "Rule: ('whole milk', 'sausage') ==> ('other vegetables',) , 0.340\n",
      "Rule: ('tropical fruit',) ==> ('other vegetables',) , 0.342\n",
      "Rule: ('newspapers',) ==> ('whole milk',) , 0.343\n",
      "Rule: ('other vegetables', 'tropical fruit') ==> ('yogurt',) , 0.343\n",
      "Rule: ('other vegetables', 'tropical fruit') ==> ('root vegetables',) , 0.343\n",
      "Rule: ('pip fruit',) ==> ('other vegetables',) , 0.345\n",
      "Rule: ('whole milk', 'soda') ==> ('other vegetables',) , 0.348\n",
      "Rule: ('frankfurter',) ==> ('whole milk',) , 0.348\n",
      "Rule: ('citrus fruit',) ==> ('other vegetables',) , 0.349\n",
      "Rule: ('domestic eggs',) ==> ('other vegetables',) , 0.351\n",
      "Rule: ('whipped/sour cream', 'other vegetables') ==> ('yogurt',) , 0.352\n",
      "Rule: ('cream cheese ',) ==> ('other vegetables',) , 0.352\n",
      "Rule: ('berries',) ==> ('whole milk',) , 0.355\n",
      "Rule: ('whole milk', 'tropical fruit') ==> ('yogurt',) , 0.358\n",
      "Rule: ('other vegetables', 'citrus fruit') ==> ('root vegetables',) , 0.359\n",
      "Rule: ('long life bakery product',) ==> ('whole milk',) , 0.361\n",
      "Rule: ('butter',) ==> ('other vegetables',) , 0.361\n",
      "Rule: ('fruit/vegetable juice',) ==> ('whole milk',) , 0.368\n",
      "Rule: ('citrus fruit',) ==> ('whole milk',) , 0.369\n",
      "Rule: ('dessert',) ==> ('whole milk',) , 0.370\n",
      "Rule: ('frozen vegetables',) ==> ('other vegetables',) , 0.370\n",
      "Rule: ('butter milk',) ==> ('other vegetables',) , 0.371\n",
      "Rule: ('pastry',) ==> ('whole milk',) , 0.374\n",
      "Rule: ('pork',) ==> ('other vegetables',) , 0.376\n",
      "Rule: ('beef',) ==> ('other vegetables',) , 0.376\n",
      "Rule: ('napkins',) ==> ('whole milk',) , 0.377\n",
      "Rule: ('other vegetables', 'sausage') ==> ('whole milk',) , 0.377\n",
      "Rule: ('soda', 'yogurt') ==> ('whole milk',) , 0.383\n",
      "Rule: ('pork',) ==> ('whole milk',) , 0.384\n",
      "Rule: ('whole milk', 'curd') ==> ('yogurt',) , 0.385\n",
      "Rule: ('other vegetables',) ==> ('whole milk',) , 0.387\n",
      "Rule: ('brown bread',) ==> ('whole milk',) , 0.389\n",
      "Rule: ('hygiene articles',) ==> ('whole milk',) , 0.389\n",
      "Rule: ('onions',) ==> ('whole milk',) , 0.390\n",
      "Rule: ('whole milk', 'fruit/vegetable juice') ==> ('other vegetables',) , 0.393\n",
      "Rule: ('whole milk', 'yogurt') ==> ('other vegetables',) , 0.397\n",
      "Rule: ('pip fruit',) ==> ('whole milk',) , 0.398\n",
      "Rule: ('yogurt',) ==> ('whole milk',) , 0.402\n",
      "Rule: ('oil',) ==> ('whole milk',) , 0.402\n",
      "Rule: ('whipped/sour cream',) ==> ('other vegetables',) , 0.403\n",
      "Rule: ('tropical fruit',) ==> ('whole milk',) , 0.403\n",
      "Rule: ('whole milk', 'tropical fruit') ==> ('other vegetables',) , 0.404\n",
      "Rule: ('beef',) ==> ('whole milk',) , 0.405\n",
      "Rule: ('white bread',) ==> ('whole milk',) , 0.406\n",
      "Rule: ('chicken',) ==> ('whole milk',) , 0.410\n",
      "Rule: ('whole milk', 'domestic eggs') ==> ('other vegetables',) , 0.410\n",
      "Rule: ('hard cheese',) ==> ('whole milk',) , 0.411\n",
      "Rule: ('margarine',) ==> ('whole milk',) , 0.413\n",
      "Rule: ('butter milk',) ==> ('whole milk',) , 0.415\n",
      "Rule: ('hamburger meat',) ==> ('other vegetables',) , 0.416\n",
      "Rule: ('whole milk', 'butter') ==> ('other vegetables',) , 0.417\n",
      "Rule: ('chicken',) ==> ('other vegetables',) , 0.417\n",
      "Rule: ('other vegetables', 'rolls/buns') ==> ('whole milk',) , 0.420\n",
      "Rule: ('tropical fruit', 'yogurt') ==> ('other vegetables',) , 0.420\n",
      "Rule: ('frozen vegetables',) ==> ('whole milk',) , 0.425\n",
      "Rule: ('other vegetables', 'soda') ==> ('whole milk',) , 0.425\n",
      "Rule: ('cream cheese ',) ==> ('whole milk',) , 0.426\n",
      "Rule: ('whole milk', 'citrus fruit') ==> ('other vegetables',) , 0.427\n",
      "Rule: ('other vegetables', 'bottled water') ==> ('whole milk',) , 0.434\n",
      "Rule: ('root vegetables',) ==> ('other vegetables',) , 0.435\n",
      "Rule: ('sliced cheese',) ==> ('whole milk',) , 0.440\n",
      "Rule: ('ham',) ==> ('whole milk',) , 0.441\n",
      "Rule: ('hamburger meat',) ==> ('whole milk',) , 0.443\n",
      "Rule: ('sugar',) ==> ('whole milk',) , 0.444\n",
      "Rule: ('rolls/buns', 'tropical fruit') ==> ('whole milk',) , 0.446\n",
      "Rule: ('root vegetables',) ==> ('whole milk',) , 0.449\n",
      "Rule: ('pip fruit', 'whole milk') ==> ('other vegetables',) , 0.449\n",
      "Rule: ('whipped/sour cream',) ==> ('whole milk',) , 0.450\n",
      "Rule: ('other vegetables', 'citrus fruit') ==> ('whole milk',) , 0.451\n",
      "Rule: ('rolls/buns', 'yogurt') ==> ('whole milk',) , 0.453\n",
      "Rule: ('whole milk', 'whipped/sour cream') ==> ('other vegetables',) , 0.454\n",
      "Rule: ('whole milk', 'pork') ==> ('other vegetables',) , 0.459\n",
      "Rule: ('onions',) ==> ('other vegetables',) , 0.459\n",
      "Rule: ('pastry', 'other vegetables') ==> ('whole milk',) , 0.468\n",
      "Rule: ('other vegetables', 'pork') ==> ('whole milk',) , 0.469\n",
      "Rule: ('domestic eggs',) ==> ('whole milk',) , 0.473\n",
      "Rule: ('root vegetables', 'whole milk') ==> ('other vegetables',) , 0.474\n",
      "Rule: ('yogurt', 'citrus fruit') ==> ('whole milk',) , 0.474\n",
      "Rule: ('other vegetables', 'tropical fruit') ==> ('whole milk',) , 0.476\n",
      "Rule: ('root vegetables', 'other vegetables') ==> ('whole milk',) , 0.489\n",
      "Rule: ('whipped/sour cream', 'yogurt') ==> ('other vegetables',) , 0.490\n",
      "Rule: ('curd',) ==> ('whole milk',) , 0.490\n",
      "Rule: ('butter',) ==> ('whole milk',) , 0.497\n",
      "Rule: ('other vegetables', 'fruit/vegetable juice') ==> ('whole milk',) , 0.498\n",
      "Rule: ('root vegetables', 'yogurt') ==> ('other vegetables',) , 0.500\n",
      "Rule: ('root vegetables', 'rolls/buns') ==> ('other vegetables',) , 0.502\n",
      "Rule: ('whipped/sour cream', 'other vegetables') ==> ('whole milk',) , 0.507\n",
      "Rule: ('other vegetables', 'yogurt') ==> ('whole milk',) , 0.513\n",
      "Rule: ('tropical fruit', 'yogurt') ==> ('whole milk',) , 0.517\n",
      "Rule: ('pip fruit', 'other vegetables') ==> ('whole milk',) , 0.518\n",
      "Rule: ('root vegetables', 'rolls/buns') ==> ('whole milk',) , 0.523\n",
      "Rule: ('whipped/sour cream', 'yogurt') ==> ('whole milk',) , 0.525\n",
      "Rule: ('other vegetables', 'domestic eggs') ==> ('whole milk',) , 0.553\n",
      "Rule: ('root vegetables', 'yogurt') ==> ('whole milk',) , 0.563\n",
      "Rule: ('root vegetables', 'tropical fruit') ==> ('whole milk',) , 0.570\n",
      "Rule: ('other vegetables', 'butter') ==> ('whole milk',) , 0.574\n",
      "Rule: ('curd', 'yogurt') ==> ('whole milk',) , 0.582\n",
      "Rule: ('root vegetables', 'tropical fruit') ==> ('other vegetables',) , 0.585\n",
      "Rule: ('root vegetables', 'citrus fruit') ==> ('other vegetables',) , 0.586\n"
     ]
    }
   ],
   "source": [
    "inFile = dataFromFile('./data/groceries.csv')\n",
    "min_support = 0.01\n",
    "min_confidence = 0.3\n",
    "items, rules =  apriori(inFile, min_support, min_confidence)\n",
    "printResults(items, rules)"
   ]
  },
  {
   "cell_type": "code",
   "execution_count": 19,
   "metadata": {},
   "outputs": [
    {
     "name": "stdout",
     "output_type": "stream",
     "text": [
      "yogurt -> [(('other vegetables',), 0.3112244897959184), (('whole milk',), 0.40160349854227406)]\n",
      "chicken -> [(('whole milk',), 0.4099526066350711), (('other vegetables',), 0.4170616113744075)]\n",
      "napkins -> [(('whole milk',), 0.37669902912621356)]\n"
     ]
    }
   ],
   "source": [
    "print('yogurt ->', rules[tuple(frozenset(['yogurt']))])\n",
    "print('chicken ->', rules[tuple(frozenset(['chicken']))])\n",
    "print('napkins ->', rules[tuple(frozenset(['napkins']))])"
   ]
  },
  {
   "cell_type": "code",
   "execution_count": 20,
   "metadata": {},
   "outputs": [],
   "source": [
    "# Let's check it with LIFT \n",
    "inFile = dataFromFile('./data/groceries.csv')\n",
    "min_support = 0.01\n",
    "min_confidence = 1.8\n",
    "items, rules =  apriori(inFile, min_support, min_confidence, method = 'lift')\n",
    "#printResults(items, rules)"
   ]
  },
  {
   "cell_type": "code",
   "execution_count": 21,
   "metadata": {},
   "outputs": [
    {
     "name": "stdout",
     "output_type": "stream",
     "text": [
      "yogurt -> [(('berries',), 2.279847718904075), (('butter',), 1.894027335704924), (('curd',), 2.325615360648076), (('whipped/sour cream',), 2.0742509769865394), (('citrus fruit',), 1.8757521436092863), (('frozen vegetables',), 1.8489235017474217), (('fruit/vegetable juice',), 1.8551049111627773), (('cream cheese ',), 2.3306986729117876), (('tropical fruit',), 2.0004746084480303)]\n",
      "chicken -> [(('root vegetables',), 2.32622064440829), (('other vegetables',), 2.1554392789633727)]\n",
      "napkins -> [(('tropical fruit',), 1.831988033416121)]\n"
     ]
    }
   ],
   "source": [
    "print('yogurt ->', rules[tuple(frozenset(['yogurt']))])\n",
    "print('chicken ->', rules[tuple(frozenset(['chicken']))])\n",
    "print('napkins ->', rules[tuple(frozenset(['napkins']))])"
   ]
  },
  {
   "cell_type": "markdown",
   "metadata": {},
   "source": [
    "<div class  = \"alert alert-success\"><b>Exercice: Create and Product Association Recommender with MovieLens Dataset</b><p>\n",
    "Explain the obtained results and conclusions.\n",
    "</div>\n",
    "\n"
   ]
  },
  {
   "cell_type": "code",
   "execution_count": 22,
   "metadata": {},
   "outputs": [
    {
     "name": "stderr",
     "output_type": "stream",
     "text": [
      "C:\\Users\\mecheste\\AppData\\Local\\Temp\\ipykernel_17832\\711774915.py:7: UserWarning: Boolean Series key will be reindexed to match DataFrame index.\n",
      "  df = df[data.user_id == user]\n"
     ]
    }
   ],
   "source": [
    "import csv\n",
    "\n",
    "with open('top_movies.csv', 'w', encoding = 'UTF8') as f:\n",
    "    writer = csv.writer(f)\n",
    "    users = set(data.user_id)\n",
    "    for user in users:\n",
    "        df = df[data.user_id == user]\n",
    "        if (df.shape[0] > 0):\n",
    "            writer.writerow([str(x) for x in df.movie_id])"
   ]
  },
  {
   "cell_type": "code",
   "execution_count": 23,
   "metadata": {},
   "outputs": [],
   "source": [
    "inFile = dataFromFile('./top_movies.csv')\n",
    "min_support = 0.1\n",
    "min_confidence = 0.3\n",
    "items, rules =  apriori(inFile, min_support, min_confidence)\n",
    "printResults(items, rules)"
   ]
  }
 ],
 "metadata": {
  "kernelspec": {
   "display_name": "Python 3 (ipykernel)",
   "language": "python",
   "name": "python3"
  },
  "language_info": {
   "codemirror_mode": {
    "name": "ipython",
    "version": 3
   },
   "file_extension": ".py",
   "mimetype": "text/x-python",
   "name": "python",
   "nbconvert_exporter": "python",
   "pygments_lexer": "ipython3",
   "version": "3.9.18"
  }
 },
 "nbformat": 4,
 "nbformat_minor": 2
}

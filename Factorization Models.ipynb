{
 "cells": [
  {
   "cell_type": "markdown",
   "metadata": {},
   "source": [
    "<small><i>Updated February 2024 - This notebook was created by [Santi Seguí](https://ssegui.github.io/). </i></small>"
   ]
  },
  {
   "cell_type": "code",
   "execution_count": 1,
   "metadata": {},
   "outputs": [
    {
     "data": {
      "text/html": [
       "<style>.container { width:100% !important; }</style>"
      ],
      "text/plain": [
       "<IPython.core.display.HTML object>"
      ]
     },
     "metadata": {},
     "output_type": "display_data"
    }
   ],
   "source": [
    "from IPython.core.display import display, HTML\n",
    "display(HTML(\"<style>.container { width:100% !important; }</style>\"))"
   ]
  },
  {
   "cell_type": "markdown",
   "metadata": {},
   "source": [
    "\n",
    "## Lesson 5: Collaborative-based recommender systems: Factorization MODELS"
   ]
  },
  {
   "cell_type": "markdown",
   "metadata": {},
   "source": [
    "Matrix factorization is a simple embedding model, which decomposes the user-item intraction matrix, $R \\in R^{m\\times n}$ matrix, where $m$ is the number of users and $n$ the number of items, into the product of two lower dimensionality rectangular matrice. The the goal of the factorization models is to learn:\n",
    "* A user embedding (or user latent factor) $P \\in R^{m\\times k}$, where row $i$ is the embedding of user $i$.\n",
    "* A item embedding (or item latent factor) $Q \\in R^{n\\times k}$, where row $j$ is the embedding of user $j$.\n",
    "\n",
    "![alt factorization models](https://miro.medium.com/max/988/1*nIVWl2ROaxOY23hHajkTTg.png)\n",
    "\n",
    "These methods became really popular due to the shown efficiency in the Netflix Prize Challenge. \n",
    "\n",
    "There are several variants of these methods:\n",
    "* SVD \n",
    "* Vanilla Factorization Matrix (also knwon as Funk SVD)\n",
    "* Vanilla Factorization Matrix with biases \n",
    "* SVD++\n",
    "* ...\n",
    "\n",
    "In these notewook we will the application of these method to the MovieLens dataset."
   ]
  },
  {
   "cell_type": "code",
   "execution_count": 2,
   "metadata": {},
   "outputs": [],
   "source": [
    "from tqdm import tqdm"
   ]
  },
  {
   "cell_type": "code",
   "execution_count": 3,
   "metadata": {},
   "outputs": [],
   "source": [
    "def evaluate(predict_f,data_train,data_test):\n",
    "    \"\"\" RMSE-based predictive performance evaluation with pandas. \"\"\"\n",
    "    ids_to_estimate = zip(data_test.user_id, data_test.movie_id)\n",
    "    list_users = set(data_train.user_id)\n",
    "    estimated = np.array([predict_f(u,i) if u in list_users else 3 for (u,i) in ids_to_estimate ])\n",
    "    real = data_test.rating.values\n",
    "    return compute_rmse(estimated, real)\n",
    "\n",
    "def compute_rmse(y_pred, y_true):\n",
    "    \"\"\" Compute Root Mean Squared Error. \"\"\"\n",
    "    return np.sqrt(np.mean(np.power(y_pred - y_true, 2)))\n",
    "\n",
    "def precision(recommended_items, relevant_items):\n",
    "    is_relevant = np.in1d(recommended_items, relevant_items, assume_unique=True)\n",
    "    precision_score = np.sum(is_relevant, dtype=np.float32) / len(is_relevant)\n",
    "    \n",
    "    return precision_score\n",
    "\n",
    "def recall(recommended_items, relevant_items):  \n",
    "    is_relevant = np.in1d(recommended_items, relevant_items, assume_unique=True)\n",
    "    recall_score = np.sum(is_relevant, dtype=np.float32) / relevant_items.shape[0]\n",
    "    \n",
    "    return recall_score\n",
    "\n",
    "def AP(recommended_items, relevant_items):\n",
    "   \n",
    "    is_relevant = np.in1d(recommended_items, relevant_items, assume_unique=True)\n",
    "    # Cumulative sum: precision at 1, at 2, at 3 ...\n",
    "    p_at_k = is_relevant * np.cumsum(is_relevant, dtype=np.float32) / (1 + np.arange(is_relevant.shape[0]))\n",
    "    ap_score = np.sum(p_at_k) / np.min([relevant_items.shape[0], is_relevant.shape[0]])\n",
    "\n",
    "    return ap_score\n",
    "\n",
    "## Divide the data in two sets: training and test\n",
    "def assign_to_set(df):\n",
    "    sampled_ids = np.random.choice(df.index,\n",
    "                                   size=np.int64(np.ceil(df.index.size * 0.2)),\n",
    "                                   replace=False)\n",
    "    df.loc[sampled_ids, 'for_testing'] = True\n",
    "    return df\n",
    "\n",
    "def evaluate_algorithm_top(test, recommender_object, at=25, thr_relevant = 0.85):\n",
    "    \n",
    "    cumulative_precision = 0.0\n",
    "    cumulative_recall = 0.0\n",
    "    cumulative_AP = 0.0\n",
    "    \n",
    "    num_eval = 0\n",
    "\n",
    "\n",
    "    for user_id in tqdm(test.user_id.unique()):\n",
    "        \n",
    "        relevant_items = test[test.user_id==user_id]\n",
    "        thr = np.quantile(relevant_items.rating,thr_relevant)\n",
    "        relevant_items = np.array(relevant_items[relevant_items.rating >=thr].movie_id.values)\n",
    "        if len(relevant_items)>0:\n",
    "            \n",
    "            recommended_items = recommender_object.predict_top(user_id, at=at)\n",
    "            num_eval+=1\n",
    "\n",
    "            cumulative_precision += precision(recommended_items, relevant_items)\n",
    "            cumulative_recall += recall(recommended_items, relevant_items)\n",
    "            cumulative_AP += AP(recommended_items, relevant_items)\n",
    "            \n",
    "    cumulative_precision /= num_eval\n",
    "    cumulative_recall /= num_eval\n",
    "    MAP = cumulative_AP / num_eval\n",
    "    \n",
    "    print(\"Recommender results are: Precision = {:.4f}, Recall = {:.4f}, MAP = {:.4f}\".format(\n",
    "        cumulative_precision, cumulative_recall, MAP)) \n",
    "    \n",
    "    "
   ]
  },
  {
   "cell_type": "code",
   "execution_count": 4,
   "metadata": {},
   "outputs": [
    {
     "data": {
      "application/javascript": "IPython.notebook.set_autosave_interval(150000)"
     },
     "metadata": {},
     "output_type": "display_data"
    },
    {
     "name": "stdout",
     "output_type": "stream",
     "text": [
      "Autosaving every 150 seconds\n",
      "Full DB has 1000209 ratings\n",
      "Full DB has  6040  users\n",
      "Full DB has  3706  movies\n",
      "Training data_set has 797758 ratings\n",
      "Test data set has 202451 ratings\n"
     ]
    }
   ],
   "source": [
    "%autosave 150\n",
    "%matplotlib inline\n",
    "import pandas as pd\n",
    "import numpy as np\n",
    "import math\n",
    "import matplotlib.pylab as plt\n",
    "\n",
    "# Load Data set\n",
    "u_cols = ['user_id', 'age', 'sex', 'occupation', 'zip_code']\n",
    "users = pd.read_csv('data/ml-1m/users.dat', sep='::', names=u_cols, engine='python')\n",
    "\n",
    "r_cols = ['user_id', 'movie_id', 'rating', 'unix_timestamp']\n",
    "ratings = pd.read_csv('data/ml-1m/ratings.dat', sep='::', names=r_cols, engine='python')\n",
    "\n",
    "# the movies file contains columns indicating the movie's genres\n",
    "# let's only load the first three columns of the file with usecols\n",
    "m_cols = ['movie_id', 'title', 'release_date']\n",
    "movies = pd.read_csv('data/ml-1m/movies.dat', sep='::', names=m_cols, usecols=range(3), encoding='latin-1', engine='python')\n",
    "\n",
    "# Construcció del DataFrame\n",
    "data = pd.merge(pd.merge(ratings, users), movies)\n",
    "data = data[['user_id','title', 'movie_id','rating','release_date','sex','age']]\n",
    "\n",
    "\n",
    "print(\"Full DB has \"+ str(data.shape[0]) +\" ratings\")\n",
    "print(\"Full DB has \", data.user_id.nunique(),\" users\")\n",
    "print(\"Full DB has \", data.movie_id.nunique(), \" movies\")\n",
    "data.head()\n",
    "\n",
    "\n",
    "## DIVIDE THE DATA INTO TRAINING AND TEST SET\n",
    "data['for_testing'] = False\n",
    "grouped = data.groupby('user_id', group_keys=False).apply(assign_to_set)\n",
    "data_train = data[grouped.for_testing == False]\n",
    "data_test = data[grouped.for_testing == True]\n",
    "\n",
    "\n",
    "print(\"Training data_set has \"+ str(data_train.shape[0]) +\" ratings\")\n",
    "print(\"Test data set has \"+ str(data_test.shape[0]) +\" ratings\")"
   ]
  },
  {
   "cell_type": "code",
   "execution_count": 5,
   "metadata": {},
   "outputs": [
    {
     "data": {
      "image/png": "[encoded data removed]",
      "text/plain": [
       "<Figure size 432x288 with 1 Axes>"
      ]
     },
     "metadata": {
      "needs_background": "light"
     },
     "output_type": "display_data"
    }
   ],
   "source": [
    "plt.hist(data.rating,bins=5)\n",
    "plt.show()"
   ]
  },
  {
   "cell_type": "code",
   "execution_count": 6,
   "metadata": {},
   "outputs": [
    {
     "data": {
      "text/html": [
       "<div>\n",
       "<style scoped>\n",
       "    .dataframe tbody tr th:only-of-type {\n",
       "        vertical-align: middle;\n",
       "    }\n",
       "\n",
       "    .dataframe tbody tr th {\n",
       "        vertical-align: top;\n",
       "    }\n",
       "\n",
       "    .dataframe thead th {\n",
       "        text-align: right;\n",
       "    }\n",
       "</style>\n",
       "<table border=\"1\" class=\"dataframe\">\n",
       "  <thead>\n",
       "    <tr style=\"text-align: right;\">\n",
       "      <th></th>\n",
       "      <th>user_id</th>\n",
       "      <th>title</th>\n",
       "      <th>movie_id</th>\n",
       "      <th>release_date</th>\n",
       "      <th>sex</th>\n",
       "      <th>age</th>\n",
       "      <th>for_testing</th>\n",
       "    </tr>\n",
       "    <tr>\n",
       "      <th>rating</th>\n",
       "      <th></th>\n",
       "      <th></th>\n",
       "      <th></th>\n",
       "      <th></th>\n",
       "      <th></th>\n",
       "      <th></th>\n",
       "      <th></th>\n",
       "    </tr>\n",
       "  </thead>\n",
       "  <tbody>\n",
       "    <tr>\n",
       "      <th>1</th>\n",
       "      <td>56174</td>\n",
       "      <td>56174</td>\n",
       "      <td>56174</td>\n",
       "      <td>56174</td>\n",
       "      <td>56174</td>\n",
       "      <td>56174</td>\n",
       "      <td>56174</td>\n",
       "    </tr>\n",
       "    <tr>\n",
       "      <th>2</th>\n",
       "      <td>107557</td>\n",
       "      <td>107557</td>\n",
       "      <td>107557</td>\n",
       "      <td>107557</td>\n",
       "      <td>107557</td>\n",
       "      <td>107557</td>\n",
       "      <td>107557</td>\n",
       "    </tr>\n",
       "    <tr>\n",
       "      <th>3</th>\n",
       "      <td>261197</td>\n",
       "      <td>261197</td>\n",
       "      <td>261197</td>\n",
       "      <td>261197</td>\n",
       "      <td>261197</td>\n",
       "      <td>261197</td>\n",
       "      <td>261197</td>\n",
       "    </tr>\n",
       "    <tr>\n",
       "      <th>4</th>\n",
       "      <td>348971</td>\n",
       "      <td>348971</td>\n",
       "      <td>348971</td>\n",
       "      <td>348971</td>\n",
       "      <td>348971</td>\n",
       "      <td>348971</td>\n",
       "      <td>348971</td>\n",
       "    </tr>\n",
       "    <tr>\n",
       "      <th>5</th>\n",
       "      <td>226310</td>\n",
       "      <td>226310</td>\n",
       "      <td>226310</td>\n",
       "      <td>226310</td>\n",
       "      <td>226310</td>\n",
       "      <td>226310</td>\n",
       "      <td>226310</td>\n",
       "    </tr>\n",
       "  </tbody>\n",
       "</table>\n",
       "</div>"
      ],
      "text/plain": [
       "        user_id   title  movie_id  release_date     sex     age  for_testing\n",
       "rating                                                                      \n",
       "1         56174   56174     56174         56174   56174   56174        56174\n",
       "2        107557  107557    107557        107557  107557  107557       107557\n",
       "3        261197  261197    261197        261197  261197  261197       261197\n",
       "4        348971  348971    348971        348971  348971  348971       348971\n",
       "5        226310  226310    226310        226310  226310  226310       226310"
      ]
     },
     "execution_count": 6,
     "metadata": {},
     "output_type": "execute_result"
    }
   ],
   "source": [
    "data.groupby(by='rating').count()"
   ]
  },
  {
   "cell_type": "markdown",
   "metadata": {},
   "source": [
    "## Let's build the baselines to compare with\n",
    "* TopPopular\n",
    "* HighestRated"
   ]
  },
  {
   "cell_type": "code",
   "execution_count": 7,
   "metadata": {},
   "outputs": [],
   "source": [
    "class TopPopRecommender(object):\n",
    "\n",
    "    def fit(self, train):\n",
    "\n",
    "        self.train = train\n",
    "        self.movie_id2title = dict(train.groupby(by=['movie_id','title']).count().index)\n",
    "        item_popularity = train[['movie_id','rating']].groupby(by='movie_id').count()\n",
    "\n",
    "        # We are not interested in sorting the popularity value,\n",
    "        # but to order the items according to it\n",
    "        self.popular_items = item_popularity.sort_values(by='rating',ascending=False).index\n",
    "    \n",
    "    \n",
    "    def predict_top(self, user_id, at=5, remove_seen=True, return_titles = False):\n",
    "    \n",
    "        if remove_seen:\n",
    "            seen_items = self.train[self.train.user_id==user_id].movie_id.values\n",
    "            unseen_items_mask = np.in1d(self.popular_items, seen_items, assume_unique=True, invert = True)\n",
    "            unseen_items = self.popular_items[unseen_items_mask]\n",
    "            recommended_items = unseen_items[0:at]\n",
    "            \n",
    "        else: \n",
    "            recommended_items = self.popular_items[0:at]\n",
    "\n",
    "        if(return_titles):\n",
    "            return [self.movie_id2title[i] for i in recommended_items]\n",
    "        return recommended_items\n",
    "    \n",
    "class HighestScoreRecommender_damped_means():\n",
    "\n",
    "    def fit(self, train, k = 10):\n",
    "        \n",
    "        self.train = train\n",
    "        self.movie_id2title = dict(train.groupby(by=['movie_id','title']).count().index)\n",
    "        \n",
    "        item_mean_ranking = train.groupby(['movie_id'])[['rating','movie_id']].agg({'rating':'mean',\n",
    "                                                              'movie_id':'count'}).rename(columns = {'rating': 'mean_rating','movie_id':'num_ratings'})\n",
    "        item_mean_ranking['damped_ranking'] = (item_mean_ranking['mean_rating']* item_mean_ranking['num_ratings'] + k*self.train.rating.mean()) /(item_mean_ranking['num_ratings']+k)\n",
    "\n",
    "\n",
    "        # We are not interested in sorting the popularity value,\n",
    "        # but to order the items according to it\n",
    "        self.top_items = item_mean_ranking.sort_values(by='damped_ranking',ascending=False).index    \n",
    "    \n",
    "    def predict_top(self, user_id, at=5, remove_seen=True, return_titles = False):\n",
    "\n",
    "        if remove_seen:\n",
    "            seen_items = self.train[self.train.user_id==user_id].movie_id.values\n",
    "            unseen_items_mask = np.in1d(self.top_items, seen_items, assume_unique=True, invert = True)\n",
    "            unseen_items = self.top_items[unseen_items_mask]\n",
    "            recommended_items = unseen_items[0:at]\n",
    "\n",
    "        else:\n",
    "            recommended_items = self.popular_items[0:at]\n",
    "    \n",
    "        if(return_titles):\n",
    "            return [self.movie_id2title[i] for i in recommended_items]\n",
    "        return recommended_items"
   ]
  },
  {
   "cell_type": "code",
   "execution_count": 8,
   "metadata": {},
   "outputs": [
    {
     "name": "stderr",
     "output_type": "stream",
     "text": [
      "100%|██████████████████████████████████████| 6040/6040 [00:10<00:00, 579.80it/s]"
     ]
    },
    {
     "name": "stdout",
     "output_type": "stream",
     "text": [
      "Recommender results are: Precision = 0.0814, Recall = 0.2029, MAP = 0.0705\n"
     ]
    },
    {
     "name": "stderr",
     "output_type": "stream",
     "text": [
      "\n"
     ]
    },
    {
     "data": {
      "text/plain": [
       "['American Beauty (1999)',\n",
       " 'Star Wars: Episode V - The Empire Strikes Back (1980)',\n",
       " 'Star Wars: Episode VI - Return of the Jedi (1983)',\n",
       " 'Jurassic Park (1993)',\n",
       " 'Terminator 2: Judgment Day (1991)']"
      ]
     },
     "execution_count": 8,
     "metadata": {},
     "output_type": "execute_result"
    }
   ],
   "source": [
    "recTopPopular = TopPopRecommender()\n",
    "recTopPopular.fit(data_train)\n",
    "evaluate_algorithm_top(data_test, recTopPopular, at = 25)\n",
    "recTopPopular.predict_top(1,return_titles=True)"
   ]
  },
  {
   "cell_type": "code",
   "execution_count": 9,
   "metadata": {},
   "outputs": [
    {
     "name": "stderr",
     "output_type": "stream",
     "text": [
      "100%|██████████████████████████████████████| 6040/6040 [00:10<00:00, 584.71it/s]"
     ]
    },
    {
     "name": "stdout",
     "output_type": "stream",
     "text": [
      "Recommender results are: Precision = 0.0515, Recall = 0.1297, MAP = 0.0394\n"
     ]
    },
    {
     "name": "stderr",
     "output_type": "stream",
     "text": [
      "\n"
     ]
    },
    {
     "data": {
      "text/plain": [
       "['Shawshank Redemption, The (1994)',\n",
       " 'Godfather, The (1972)',\n",
       " 'Usual Suspects, The (1995)',\n",
       " 'Seven Samurai (The Magnificent Seven) (Shichinin no samurai) (1954)',\n",
       " 'Raiders of the Lost Ark (1981)']"
      ]
     },
     "execution_count": 9,
     "metadata": {},
     "output_type": "execute_result"
    }
   ],
   "source": [
    "recHighestScore = HighestScoreRecommender_damped_means()\n",
    "recHighestScore.fit(data_train, k = 50)\n",
    "evaluate_algorithm_top(data_test, recHighestScore, at = 25)\n",
    "recHighestScore.predict_top(1,return_titles=True)"
   ]
  },
  {
   "cell_type": "markdown",
   "metadata": {},
   "source": [
    "### SVD Decomposition\n",
    "\n",
    "Singular Value Decomposition (SVD) is a well established technique for identifying latent semantic factors. Done by factorizing the user-item rating matrix.\n",
    "\n",
    "The singular value decomposition is a methods that decomposes a matrix into three other matrices as given below:\n",
    "$$ R = USV^T$$\n",
    "\n",
    "Where\n",
    "* $R$ is a $m\\times n$ rating matrix;\n",
    "* $U$ is a $m\\times k$ orthogonal left singular matrix, which represents the relationship between users and latent factors and it is known user latent matrix;\n",
    "* $S$ is a $r\\times r$ diagonal matrix, whcih describes the strengh of each latent factor, and;\n",
    "* $V$ is a $n \\times k$ orthogonal right singular matrix, which represents the relationship between items and latent factors and it is known item latent matrix.\n",
    "\n",
    "\n",
    "\n",
    "Columns of U and V are constrained to be mutually orthogonal. \n",
    "\n",
    "Mutual orthogonality has the advantage that the concepts can be completely independent of one another. Can be interpre\n",
    "ted in scatterplots\n",
    "\n",
    "**Problem**: $R$ matrix needs to be complete in order to be decomposed\n",
    "* Solution: fill missing values with the mean rating of the user"
   ]
  },
  {
   "cell_type": "code",
   "execution_count": 10,
   "metadata": {},
   "outputs": [],
   "source": [
    "movie_id2title = {}\n",
    "for row in data_train[['movie_id','title']].drop_duplicates().values:\n",
    "    movie_id2title[row[0]] = row[1]"
   ]
  },
  {
   "cell_type": "code",
   "execution_count": 11,
   "metadata": {},
   "outputs": [],
   "source": [
    "from scipy import sparse\n",
    "from scipy.linalg import sqrtm\n",
    "\n",
    "class RecSys_mf():\n",
    "    \"\"\" Collaborative filtering using SVD. \"\"\"\n",
    "    \n",
    "    def __init__(self, num_components=10):\n",
    "        \"\"\" Constructor \"\"\"\n",
    "        self.num_components=num_components\n",
    "        \n",
    "        \n",
    "        \n",
    "    def fit(self,df_train):\n",
    "        \"\"\" We decompose the R matrix into to submatrices using the training data \"\"\"\n",
    "        \n",
    "        self.train = df_train\n",
    "        self.urm = pd.pivot_table(df_train[['user_id','movie_id','rating']],columns='movie_id',index='user_id',values='rating')\n",
    "        \n",
    "        # We create a dictionary where we will store the user_id and movie_id which correspond \n",
    "        # to each index in the Rating matrix\n",
    "        \n",
    "        user_index = np.arange(len(self.urm.index))\n",
    "        self.users = dict(zip(user_index,self.urm.index ))\n",
    "        self.users_id2index = dict(zip(self.urm.index,user_index)) \n",
    "        \n",
    "        movie_index = np.arange(len(self.urm.columns))\n",
    "        self.movies = dict(zip(movie_index,self.urm.columns )) \n",
    "        self.movies_id2index= dict(zip(self.urm.columns, movie_index))\n",
    "        self.movies_index2id= dict(zip(movie_index,self.urm.columns))\n",
    "        self.movie_id2title = dict(df_train.groupby(by=['movie_id','title']).count().index)\n",
    "        \n",
    "        self.pop_items = reco.train.groupby('movie_id').count()[['rating']]\n",
    "\n",
    "        train_matrix = np.array(self.urm)\n",
    "        # we mask those nan value to fill with the mean \n",
    "        mask = np.isnan(train_matrix)\n",
    "        masked_arr = np.ma.masked_array(train_matrix, mask)\n",
    "        item_means = np.mean(masked_arr, axis=0)\n",
    "\n",
    "        # nan entries will replaced by the average rating for each item\n",
    "        train_matrix = masked_arr.filled(item_means)\n",
    "        #train_matrix = masked_arr.filled(0)\n",
    "        x = np.tile(item_means, (train_matrix.shape[0],1))         \n",
    "\n",
    "        # we remove the per item average from all entries.\n",
    "        # the above mentioned nan entries will be essentially zero now\n",
    "        train_matrix = train_matrix - x\n",
    "        U, s, V = np.linalg.svd(train_matrix, full_matrices=False)\n",
    "\n",
    "        # reconstruct rating matix\n",
    "        S = np.diag(s[0:self.num_components])\n",
    "        U = U[:,0:self.num_components]\n",
    "        V = V[0:self.num_components,:]\n",
    "        S_root = sqrtm(S)\n",
    "\n",
    "        USk=np.dot(U,S_root)\n",
    "        SkV=np.dot(S_root,V)\n",
    "        Y_hat = np.dot(USk, SkV)\n",
    "        self.Y_hat = Y_hat + x\n",
    "        \n",
    "    def predict_score(self, user_id, movie_id):\n",
    "        \n",
    "        if movie_id in self.movies_id2index:\n",
    "            return self.Y_hat[self.users_id2index[user_id],self.movies_id2index[movie_id]]\n",
    "        else: # in case it is a new movie \n",
    "            return 0\n",
    "\n",
    "        \n",
    "    def predict_top(self, user_id, at=5, remove_seen=True, return_titles = False):\n",
    "        '''Given a user_id predict its top AT items'''\n",
    "        seen_items = self.train[self.train.user_id==user_id].movie_id.values\n",
    "        unseen_items = set(self.train.movie_id.values) - set(seen_items)\n",
    "        predictions = [(item_id,self.predict_score(user_id,item_id)) for item_id in unseen_items]\n",
    "\n",
    "        sorted_predictions = sorted(predictions, key=lambda x: x[1],reverse = True)[:at]\n",
    "        if(return_titles):\n",
    "            return [self.movie_id2title[i[0]] for i in sorted_predictions]\n",
    "        return [i[0] for i in sorted_predictions]\n",
    "        "
   ]
  },
  {
   "cell_type": "code",
   "execution_count": 12,
   "metadata": {},
   "outputs": [
    {
     "name": "stdout",
     "output_type": "stream",
     "text": [
      "RMSE for Collaborative Recomender: 0.9241018102498584\n"
     ]
    }
   ],
   "source": [
    "reco = RecSys_mf(num_components=30)\n",
    "reco.fit(data_train)\n",
    "print('RMSE for Collaborative Recomender: %s' % evaluate(reco.predict_score,data_train,data_test))\n",
    "#evaluate_algorithm_top(data_test, reco, at = 25)"
   ]
  },
  {
   "cell_type": "code",
   "execution_count": 13,
   "metadata": {},
   "outputs": [
    {
     "data": {
      "text/plain": [
       "['Gate of Heavenly Peace, The (1995)',\n",
       " 'Schlafes Bruder (Brother of Sleep) (1995)',\n",
       " 'Dry Cleaning (Nettoyage à sec) (1997)',\n",
       " 'Ulysses (Ulisse) (1954)',\n",
       " 'Smashing Time (1967)']"
      ]
     },
     "execution_count": 13,
     "metadata": {},
     "output_type": "execute_result"
    }
   ],
   "source": [
    "reco.predict_top(1,return_titles = True)"
   ]
  },
  {
   "cell_type": "markdown",
   "metadata": {},
   "source": [
    "### The Vanilla Matrix Factorization Model \n",
    "* Also know as **Funk SVD**\n",
    "* * Despite its name, in Funk SVD, no singular value decomposition is applied.\n",
    "* * https://sifter.org/simon/journal/20061211.html\n",
    "\n",
    "A straightforward matrix factorization model maps both users and items to a joint latent factor space of dimensionality D. User-item interaction are modeled as inner products in that space\n",
    "$$R = UV$$\n",
    "\n",
    "Each item j is associated with a vector $v_j$ from $V$, and each user $i$ is associated with a vecor $u_i$ from $U$.\n",
    "The resulting dot product $u_i\\cdot v_j$ captures the interaction between the user $i$ and item $j$:\n",
    "$$ \\hat{r} = u_i\\cdot v_j$$\n",
    "\n",
    "The goal of the matrix factorization consist on finding the mapping of each item and user to factors $u_i$ and $v_j$. To do so, the minimization the of squarred error function is performed:\n",
    "$$ \\sum(R_{ui} - u_i\\cdot v_j)^2$$\n",
    "\n",
    "This factorization can be learnt using **only those known ratings**. We do not need to infer missing values."
   ]
  },
  {
   "cell_type": "markdown",
   "metadata": {},
   "source": [
    "![alt Amazon](https://miro.medium.com/max/4800/1*b4M7o7W8bfRRxdMxtFoVBQ.png)"
   ]
  },
  {
   "cell_type": "code",
   "execution_count": 14,
   "metadata": {},
   "outputs": [],
   "source": [
    "from scipy import sparse\n",
    "\n",
    "class RecSys_vanilla_mf(RecSys_mf):\n",
    "    \"\"\" Collaborative filtering using a custom sim(u,u'). \"\"\"\n",
    "\n",
    "    def __sdg__(self):\n",
    "        for idx in self.training_indices:\n",
    "            u = self.sample_row[idx]\n",
    "            i = self.sample_col[idx]\n",
    "            user_id = self.users[u]\n",
    "            item_id = self.movies[i]\n",
    "            \n",
    "            prediction = self.predict_score(user_id, item_id)\n",
    "            error = (self.ratings[u,i] - prediction) # error\n",
    "            \n",
    "            #Update latent factors\n",
    "            self.user_vecs[u, :] += self.learning_rate * \\\n",
    "                                    (error * self.item_vecs[i, :] - \\\n",
    "                                     self.lmbda * self.user_vecs[u,:])\n",
    "            self.item_vecs[i, :] += self.learning_rate * \\\n",
    "                                    (error * self.user_vecs[u, :] - \\\n",
    "                                     self.lmbda * self.item_vecs[i,:])\n",
    "                \n",
    "                \n",
    "    def fit(self,df_train,df_val, n_epochs = 10,learning_rate =0.001,lmbda=0.1,verbose =True):\n",
    "        \"\"\" We decompose the R matrix into to submatrices using the training data \"\"\"\n",
    "        self.train = df_train\n",
    "        self.val = df_val\n",
    "        self.urm = pd.pivot_table(df_train[['user_id','movie_id','rating']],columns='movie_id',index='user_id',values='rating')\n",
    "        \n",
    "        # We create a dictionary where we will store the user_id and movie_id which correspond \n",
    "        # to each index in the Rating matrix\n",
    "        \n",
    "        user_index = np.arange(len(self.urm.index))\n",
    "        self.users = dict(zip(user_index,self.urm.index ))\n",
    "        self.users_id2index = dict(zip(self.urm.index,user_index)) \n",
    "        \n",
    "        movie_index = np.arange(len(self.urm.columns))\n",
    "        self.movies = dict(zip(movie_index,self.urm.columns )) \n",
    "        self.movies_id2index= dict(zip(self.urm.columns, movie_index))\n",
    "        self.movies_index2id= dict(zip(movie_index,self.urm.columns))\n",
    "        self.movie_id2title = dict(df_train.groupby(by=['movie_id','title']).count().index)\n",
    "        \n",
    "        \n",
    "        self.verbose = verbose\n",
    "        self.learning_rate = learning_rate\n",
    "        self.lmbda = lmbda\n",
    "        \n",
    "        self.mean_rating = self.train.rating.mean()\n",
    "        \n",
    "        self.ratings = np.float32(self.urm.fillna(0).values)\n",
    "        self.n_users, self.n_items = self.urm.shape\n",
    "        self.sample_row, self.sample_col = self.ratings.nonzero()\n",
    "        self.n_samples = len(self.sample_row)\n",
    "        \n",
    "        self.train_rmse =[]\n",
    "        self.test_rmse = []\n",
    "        iter_diff = 0\n",
    "        \n",
    "        # initialize latent vectors\n",
    "        self.user_vecs = self.mean_rating*np.random.normal(scale=1./self.num_components,\\\n",
    "                                          size=(self.n_users, self.num_components))\n",
    "        self.item_vecs = self.mean_rating*np.random.normal(scale=1./self.num_components,\n",
    "                                          size=(self.n_items, self.num_components))\n",
    "\n",
    "        for epoch in range(n_epochs):\n",
    "            print('Epoch: {}'.format(epoch))\n",
    "            \n",
    "            self.training_indices = np.arange(self.n_samples)\n",
    "            \n",
    "            #shuffle training samples\n",
    "            np.random.shuffle(self.training_indices)\n",
    "            self.__sdg__()\n",
    "            \n",
    "            self.train_rmse.append(evaluate(self.predict_score,self.train,self.train))\n",
    "            self.test_rmse.append(evaluate(self.predict_score,self.train,self.val))\n",
    "            \n",
    "            \n",
    "            print('\\tTrain rmse: %s' % self.train_rmse[-1])\n",
    "            print('\\tTest rmse: %s' % self.test_rmse[-1])\n",
    "            \n",
    "        \n",
    "        if(self.verbose):\n",
    "            self.__plot_learning_curves__()\n",
    "    \n",
    "    def __plot_learning_curves__(self):\n",
    "        plt.plot(self.train_rmse,'--o',label=\"train_error\")\n",
    "        plt.plot(self.test_rmse,'--o',label=\"test_error\")\n",
    "        plt.legend()\n",
    "        plt.show()\n",
    "        \n",
    "    def predict_score(self, user_id, movie_id):\n",
    "        \"\"\" Single user and item prediction.\"\"\"\n",
    "        user_index = self.users_id2index[user_id]\n",
    "        if movie_id in self.movies_id2index:\n",
    "            item_index = self.movies_id2index[movie_id]\n",
    "            prediction =  self.user_vecs[user_index, :].dot(self.item_vecs[item_index, :].T)\n",
    "        else:\n",
    "            prediction = self.mean_rating # this is a new movie\n",
    "        \n",
    "        return prediction\n",
    "     "
   ]
  },
  {
   "cell_type": "code",
   "execution_count": 15,
   "metadata": {},
   "outputs": [
    {
     "name": "stdout",
     "output_type": "stream",
     "text": [
      "Epoch: 0\n",
      "\tTrain rmse: 1.273243311990437\n",
      "\tTest rmse: 1.29649987990993\n",
      "Epoch: 1\n",
      "\tTrain rmse: 1.085121638546374\n",
      "\tTest rmse: 1.100864798079871\n",
      "Epoch: 2\n",
      "\tTrain rmse: 1.0569048047788547\n",
      "\tTest rmse: 1.070092004866483\n",
      "Epoch: 3\n",
      "\tTrain rmse: 1.0455002071938617\n",
      "\tTest rmse: 1.057328412362233\n",
      "Epoch: 4\n",
      "\tTrain rmse: 1.0446530185841596\n",
      "\tTest rmse: 1.0555837651315976\n"
     ]
    },
    {
     "data": {
      "image/png": "[encoded data removed]",
      "text/plain": [
       "<Figure size 432x288 with 1 Axes>"
      ]
     },
     "metadata": {
      "needs_background": "light"
     },
     "output_type": "display_data"
    },
    {
     "name": "stdout",
     "output_type": "stream",
     "text": [
      "RMSE for Collaborative Recomender: 1.0555837651315976\n"
     ]
    }
   ],
   "source": [
    "reco = RecSys_vanilla_mf(num_components=5)\n",
    "reco.fit(data_train,data_test, n_epochs = 5,learning_rate=0.01,lmbda=0.5)\n",
    "print('RMSE for Collaborative Recomender: %s' % evaluate(reco.predict_score,data_train,data_test))"
   ]
  },
  {
   "cell_type": "code",
   "execution_count": 16,
   "metadata": {},
   "outputs": [
    {
     "data": {
      "text/plain": [
       "['Apple, The (Sib) (1998)',\n",
       " 'Silence of the Lambs, The (1991)',\n",
       " 'Rear Window (1954)',\n",
       " 'Sunset Blvd. (a.k.a. Sunset Boulevard) (1950)',\n",
       " 'Godfather, The (1972)']"
      ]
     },
     "execution_count": 16,
     "metadata": {},
     "output_type": "execute_result"
    }
   ],
   "source": [
    "reco.predict_top(1,return_titles = True)"
   ]
  },
  {
   "cell_type": "code",
   "execution_count": 17,
   "metadata": {},
   "outputs": [
    {
     "name": "stdout",
     "output_type": "stream",
     "text": [
      "Epoch: 0\n",
      "\tTrain rmse: 1.1235732173334956\n",
      "\tTest rmse: 1.1565259063168087\n",
      "Epoch: 1\n",
      "\tTrain rmse: 0.9550761071296258\n",
      "\tTest rmse: 0.9807482756150753\n",
      "Epoch: 2\n",
      "\tTrain rmse: 0.9267683665295965\n",
      "\tTest rmse: 0.9504847473602792\n",
      "Epoch: 3\n",
      "\tTrain rmse: 0.9172815203331092\n",
      "\tTest rmse: 0.9399199036909281\n",
      "Epoch: 4\n",
      "\tTrain rmse: 0.9112253848493437\n",
      "\tTest rmse: 0.9338413759508665\n"
     ]
    },
    {
     "data": {
      "image/png": "[encoded data removed]",
      "text/plain": [
       "<Figure size 432x288 with 1 Axes>"
      ]
     },
     "metadata": {
      "needs_background": "light"
     },
     "output_type": "display_data"
    },
    {
     "name": "stdout",
     "output_type": "stream",
     "text": [
      "RMSE for Collaborative Recomender: 0.9338413759508665\n"
     ]
    },
    {
     "name": "stderr",
     "output_type": "stream",
     "text": [
      "100%|███████████████████████████████████████| 6040/6040 [05:21<00:00, 18.79it/s]"
     ]
    },
    {
     "name": "stdout",
     "output_type": "stream",
     "text": [
      "Recommender results are: Precision = 0.0210, Recall = 0.0337, MAP = 0.0071\n"
     ]
    },
    {
     "name": "stderr",
     "output_type": "stream",
     "text": [
      "\n"
     ]
    }
   ],
   "source": [
    "reco = RecSys_vanilla_mf(num_components=5)\n",
    "reco.fit(data_train,data_test, n_epochs = 5,learning_rate=0.01)\n",
    "print('RMSE for Collaborative Recomender: %s' % evaluate(reco.predict_score,data_train,data_test))\n",
    "evaluate_algorithm_top(data_test, reco, at = 25)"
   ]
  },
  {
   "cell_type": "code",
   "execution_count": 18,
   "metadata": {},
   "outputs": [
    {
     "data": {
      "text/plain": [
       "['Monsieur Verdoux (1947)',\n",
       " 'Six-String Samurai (1998)',\n",
       " 'Lodger, The (1926)',\n",
       " \"Love's Labour's Lost (2000)\",\n",
       " 'Pather Panchali (1955)']"
      ]
     },
     "execution_count": 18,
     "metadata": {},
     "output_type": "execute_result"
    }
   ],
   "source": [
    "reco.predict_top(1,return_titles = True)"
   ]
  },
  {
   "cell_type": "code",
   "execution_count": 19,
   "metadata": {},
   "outputs": [
    {
     "name": "stdout",
     "output_type": "stream",
     "text": [
      "Epoch: 0\n",
      "\tTrain rmse: 0.9699181945794483\n",
      "\tTest rmse: 0.9969532449180166\n",
      "Epoch: 1\n",
      "\tTrain rmse: 0.9355030444222862\n",
      "\tTest rmse: 0.958032020213569\n",
      "Epoch: 2\n",
      "\tTrain rmse: 0.9236749537884147\n",
      "\tTest rmse: 0.9459620274026997\n",
      "Epoch: 3\n",
      "\tTrain rmse: 0.9136002572536083\n",
      "\tTest rmse: 0.9373875273494178\n",
      "Epoch: 4\n",
      "\tTrain rmse: 0.907577336486922\n",
      "\tTest rmse: 0.9314810858150392\n",
      "Epoch: 5\n",
      "\tTrain rmse: 0.9028686273299672\n",
      "\tTest rmse: 0.9263535654128742\n",
      "Epoch: 6\n",
      "\tTrain rmse: 0.8987964251357395\n",
      "\tTest rmse: 0.9236334145605657\n",
      "Epoch: 7\n",
      "\tTrain rmse: 0.894123542884827\n",
      "\tTest rmse: 0.9183994372505021\n",
      "Epoch: 8\n",
      "\tTrain rmse: 0.8924268857602341\n",
      "\tTest rmse: 0.9171220900977075\n",
      "Epoch: 9\n",
      "\tTrain rmse: 0.890493317274383\n",
      "\tTest rmse: 0.9160661285358366\n",
      "Epoch: 10\n",
      "\tTrain rmse: 0.8861866396887605\n",
      "\tTest rmse: 0.9132500051285442\n",
      "Epoch: 11\n",
      "\tTrain rmse: 0.8830196890452976\n",
      "\tTest rmse: 0.9104035357577587\n",
      "Epoch: 12\n",
      "\tTrain rmse: 0.8829405831701942\n",
      "\tTest rmse: 0.9106241660289692\n",
      "Epoch: 13\n",
      "\tTrain rmse: 0.8793777881748351\n",
      "\tTest rmse: 0.9072099199797253\n",
      "Epoch: 14\n",
      "\tTrain rmse: 0.8782510028707744\n",
      "\tTest rmse: 0.9077184614915994\n"
     ]
    },
    {
     "data": {
      "image/png": "[encoded data removed]",
      "text/plain": [
       "<Figure size 432x288 with 1 Axes>"
      ]
     },
     "metadata": {
      "needs_background": "light"
     },
     "output_type": "display_data"
    },
    {
     "name": "stdout",
     "output_type": "stream",
     "text": [
      "RMSE for Collaborative Recomender: 0.9077184614915994\n"
     ]
    },
    {
     "name": "stderr",
     "output_type": "stream",
     "text": [
      "100%|███████████████████████████████████████| 6040/6040 [05:21<00:00, 18.79it/s]"
     ]
    },
    {
     "name": "stdout",
     "output_type": "stream",
     "text": [
      "Recommender results are: Precision = 0.0302, Recall = 0.0734, MAP = 0.0089\n"
     ]
    },
    {
     "name": "stderr",
     "output_type": "stream",
     "text": [
      "\n"
     ]
    }
   ],
   "source": [
    "reco = RecSys_vanilla_mf(num_components=5)\n",
    "reco.fit(data_train,data_test, n_epochs = 15,learning_rate=0.02)\n",
    "print('RMSE for Collaborative Recomender: %s' % evaluate(reco.predict_score,data_train,data_test))\n",
    "evaluate_algorithm_top(data_test, reco, at = 25)"
   ]
  },
  {
   "cell_type": "code",
   "execution_count": 20,
   "metadata": {},
   "outputs": [
    {
     "data": {
      "text/plain": [
       "['Apple, The (Sib) (1998)',\n",
       " 'Nénette et Boni (1996)',\n",
       " 'Lamerica (1994)',\n",
       " \"It's a Wonderful Life (1946)\",\n",
       " 'Arsenic and Old Lace (1944)']"
      ]
     },
     "execution_count": 20,
     "metadata": {},
     "output_type": "execute_result"
    }
   ],
   "source": [
    "reco.predict_top(1,return_titles = True)"
   ]
  },
  {
   "cell_type": "code",
   "execution_count": 21,
   "metadata": {},
   "outputs": [
    {
     "data": {
      "text/plain": [
       "[('Lion King, The (1994)', 353),\n",
       " ('Absent Minded Professor, The (1961)', 1821),\n",
       " ('League of Their Own, A (1992)', 3012),\n",
       " ('Star Trek IV: The Voyage Home (1986)', 1269),\n",
       " ('Romancing the Stone (1984)', 2198),\n",
       " ('Erin Brockovich (2000)', 3156)]"
      ]
     },
     "execution_count": 21,
     "metadata": {},
     "output_type": "execute_result"
    }
   ],
   "source": [
    "from sklearn.metrics.pairwise import euclidean_distances\n",
    "movie_id = 1 #'Toy Story (1995)'\n",
    "movie_id = 364 #'Lion King, The (1994)'\n",
    "\n",
    "pairwise_distances = euclidean_distances(reco.item_vecs, reco.item_vecs)\n",
    "[(reco.movie_id2title[reco.movies_index2id[item]],\n",
    "  item) for item in np.argsort(pairwise_distances[reco.movies_id2index[movie_id]])[0:6]]"
   ]
  },
  {
   "cell_type": "markdown",
   "metadata": {},
   "source": [
    "### The Vanilla Matrix Factorization Model with biases \n",
    "\n",
    "* Despite its name, in SVD, no singular value decomposition is applied.\n",
    "\n",
    "\n",
    "Now the model is defined as:\n",
    "$\\hat{r}_{ui} = \\bar{r} + b_{u_u} + b_{i_i}  \\sum_{k = 1}^KP_{uk} Q_{ik}^T  $\n",
    "\n",
    "To learn the model we can use the SGD as before. Now the latent factors and biases are updated as follows:\n",
    "* $error = r -\\hat{r}$\n",
    "* $b_{u_u} = b_{u_u} + \\alpha*(error -  \\lambda*b_{u_u})$\n",
    "* $b_{i_i} = b_{i_i} + \\alpha*(error -  \\lambda*b_{i_i})$\n",
    "* $P_{uk} = P_{uk} + \\alpha*(error*Q_{ik} -  \\lambda*P_{uk})$\n",
    "* $Q_{ik} = Q_{ik} + \\alpha*(error*P_{uk} -  \\lambda*Q_{ik})$\n",
    "\n",
    "where $\\alpha$ is the learning rate and $\\lambda$ is the regularization term."
   ]
  },
  {
   "cell_type": "code",
   "execution_count": 22,
   "metadata": {},
   "outputs": [],
   "source": [
    "from sklearn.decomposition import TruncatedSVD\n",
    "from scipy import sparse\n",
    "\n",
    "class RecSys_vanilla_mf_biases(RecSys_vanilla_mf):\n",
    "                  \n",
    "    def __sdg__(self):\n",
    "        for idx in self.training_indices:\n",
    "            u = self.sample_row[idx]\n",
    "            i = self.sample_col[idx]\n",
    "            user_id = self.users[u]\n",
    "            item_id = self.movies[i]\n",
    "            \n",
    "            prediction = self.predict_score(user_id, item_id)\n",
    "            error = (self.ratings[u,i] - prediction) # error\n",
    "            #Update latent factors\n",
    "            self.user_vecs[u, :] += self.learning_rate * \\\n",
    "                                    (error * self.item_vecs[i, :] - self.lmbda * self.user_vecs[u,:])\n",
    "            self.item_vecs[i, :] += self.learning_rate * \\\n",
    "                                    (error * self.user_vecs[u, :] - self.lmbda * self.item_vecs[i,:])\n",
    "            \n",
    "            self.bias_item[i] += self.learning_rate * (error - self.lmbda * self.bias_item[i]) \n",
    "            self.bias_user[u] += self.learning_rate * (error - self.lmbda * self.bias_user[u]) \n",
    "            \n",
    "                \n",
    "    def fit(self,df_train,df_val, n_epochs = 10,learning_rate =0.001,lmbda=0.1,verbose =True):\n",
    "        \"\"\" Train the model. \"\"\"\n",
    "        self.verbose = verbose\n",
    "        self.learning_rate = learning_rate\n",
    "        self.lmbda = lmbda\n",
    "        \n",
    "        self.train = df_train\n",
    "        self.val = df_val\n",
    "        \n",
    "        self.urm = pd.pivot_table(df_train[['user_id','movie_id','rating']],columns='movie_id',index='user_id',values='rating')\n",
    "        \n",
    "        # We create a dictionary where we will store the user_id and movie_id which correspond \n",
    "        # to each index in the Rating matrix\n",
    "        \n",
    "        user_index = np.arange(len(self.urm.index))\n",
    "        self.users = dict(zip(user_index,self.urm.index ))\n",
    "        self.users_id2index = dict(zip(self.urm.index,user_index)) \n",
    "        \n",
    "        movie_index = np.arange(len(self.urm.columns))\n",
    "        self.movies = dict(zip(movie_index,self.urm.columns )) \n",
    "        self.movies_id2index= dict(zip(self.urm.columns, movie_index))\n",
    "        self.movies_index2id= dict(zip(movie_index,self.urm.columns))\n",
    "        self.movie_id2title = dict(df_train.groupby(by=['movie_id','title']).count().index)\n",
    "        \n",
    "        \n",
    "        \n",
    "        self.mean_rating = self.train.rating.mean()\n",
    "        \n",
    "        self.ratings = np.float32(self.urm.fillna(0).values)\n",
    "        self.n_users, self.n_items = self.urm.shape\n",
    "        self.sample_row, self.sample_col = self.ratings.nonzero()\n",
    "        self.n_samples = len(self.sample_row)\n",
    "        print(self.n_samples)\n",
    "        self.train_rmse =[]\n",
    "        self.test_rmse = []\n",
    "        iter_diff = 0\n",
    "        \n",
    "        # initialize latent vectors\n",
    "        self.user_vecs = self.mean_rating*np.random.normal(scale=1./self.num_components,\\\n",
    "                                          size=(self.n_users, self.num_components))\n",
    "        self.item_vecs = self.mean_rating*np.random.normal(scale=1./self.num_components,\n",
    "                                          size=(self.n_items, self.num_components))\n",
    "        self.bias_item = np.random.normal(scale=1/self.n_items,size=(self.n_items))\n",
    "        self.bias_user = np.random.normal(scale=1/self.n_users,size=(self.n_users))\n",
    "        \n",
    "        \n",
    "        for epoch in range(n_epochs):\n",
    "    \n",
    "            print('Epoch: {}'.format(epoch))\n",
    "            \n",
    "            self.training_indices = np.arange(self.n_samples)\n",
    "            \n",
    "            #shuffle training samples\n",
    "            np.random.shuffle(self.training_indices)\n",
    "            self.__sdg__()\n",
    "            \n",
    "            self.train_rmse.append(evaluate(reco.predict_score,self.train,self.train))\n",
    "            self.test_rmse.append(evaluate(reco.predict_score,self.train,self.val))\n",
    "            \n",
    "            print('\\tTrain rmse: %s' % self.train_rmse[-1])\n",
    "            print('\\tTest rmse: %s' % self.test_rmse[-1])\n",
    "        \n",
    "        if(self.verbose):\n",
    "            self.__plot_learning_curves__()\n",
    "    \n",
    "    def predict_score(self, user_id, movie_id):\n",
    "        \"\"\" Single user and item prediction.\"\"\"\n",
    "        user_index = self.users_id2index[user_id]\n",
    "        if movie_id in self.movies_id2index:\n",
    "            item_index = self.movies_id2index[movie_id]\n",
    "            prediction =  self.mean_rating + self.user_vecs[user_index, :].dot(self.item_vecs[item_index, :].T) + self.bias_item[item_index] + self.bias_user[user_index]\n",
    "        else:\n",
    "            prediction = self.mean_rating # this is a new movie\n",
    "\n",
    "        return prediction\n",
    "    "
   ]
  },
  {
   "cell_type": "code",
   "execution_count": 23,
   "metadata": {},
   "outputs": [
    {
     "name": "stdout",
     "output_type": "stream",
     "text": [
      "797758\n",
      "Epoch: 0\n",
      "\tTrain rmse: 0.9137346810508039\n",
      "\tTest rmse: 0.9337206324088176\n",
      "Epoch: 1\n",
      "\tTrain rmse: 0.9018707327921879\n",
      "\tTest rmse: 0.9223133282062946\n",
      "Epoch: 2\n",
      "\tTrain rmse: 0.8983140550122115\n",
      "\tTest rmse: 0.9192072459290062\n",
      "Epoch: 3\n",
      "\tTrain rmse: 0.8964447516226672\n",
      "\tTest rmse: 0.9166236478051588\n",
      "Epoch: 4\n",
      "\tTrain rmse: 0.894716785393113\n",
      "\tTest rmse: 0.9153177877027868\n"
     ]
    },
    {
     "data": {
      "image/png": "[encoded data removed]",
      "text/plain": [
       "<Figure size 432x288 with 1 Axes>"
      ]
     },
     "metadata": {
      "needs_background": "light"
     },
     "output_type": "display_data"
    },
    {
     "name": "stdout",
     "output_type": "stream",
     "text": [
      "RMSE for Collaborative Recomender: 0.9153177877027868\n"
     ]
    }
   ],
   "source": [
    "reco = RecSys_vanilla_mf_biases(num_components=5)\n",
    "reco.fit(data_train,data_test, n_epochs = 5,learning_rate=0.02)\n",
    "print('RMSE for Collaborative Recomender: %s' % evaluate(reco.predict_score,data_train,data_test))"
   ]
  },
  {
   "cell_type": "code",
   "execution_count": 24,
   "metadata": {},
   "outputs": [
    {
     "data": {
      "text/plain": [
       "['Confessional, The (Le Confessionnal) (1995)',\n",
       " 'Before the Rain (Pred dozhdot) (1994)',\n",
       " 'Children of Heaven, The (Bacheha-Ye Aseman) (1997)',\n",
       " 'First Love, Last Rites (1997)',\n",
       " 'Sanjuro (1962)']"
      ]
     },
     "execution_count": 24,
     "metadata": {},
     "output_type": "execute_result"
    }
   ],
   "source": [
    "reco.predict_top(1,return_titles = True)"
   ]
  },
  {
   "cell_type": "code",
   "execution_count": 25,
   "metadata": {},
   "outputs": [
    {
     "name": "stderr",
     "output_type": "stream",
     "text": [
      "100%|███████████████████████████████████████| 6040/6040 [05:28<00:00, 18.37it/s]"
     ]
    },
    {
     "name": "stdout",
     "output_type": "stream",
     "text": [
      "Recommender results are: Precision = 0.0211, Recall = 0.0328, MAP = 0.0074\n"
     ]
    },
    {
     "name": "stderr",
     "output_type": "stream",
     "text": [
      "\n"
     ]
    }
   ],
   "source": [
    "evaluate_algorithm_top(data_test, reco, at = 25)"
   ]
  },
  {
   "cell_type": "code",
   "execution_count": 26,
   "metadata": {},
   "outputs": [
    {
     "data": {
      "text/plain": [
       "[('Toy Story (1995)', 0),\n",
       " ('Apostle, The (1997)', 1546),\n",
       " ('Little Mermaid, The (1989)', 1886),\n",
       " ('Top Hat (1935)', 877),\n",
       " ('Badlands (1973)', 3478),\n",
       " ('Conversation, The (1974)', 3467)]"
      ]
     },
     "execution_count": 26,
     "metadata": {},
     "output_type": "execute_result"
    }
   ],
   "source": [
    "from sklearn.metrics.pairwise import euclidean_distances\n",
    "movie_id = 1 #'Toy Story (1995)'\n",
    "#movie_id = 364 #'Lion King, The (1994)'\n",
    "\n",
    "pairwise_distances = euclidean_distances(reco.item_vecs, reco.item_vecs)\n",
    "[(reco.movie_id2title[reco.movies_index2id[item]],\n",
    "  item) for item in np.argsort(pairwise_distances[reco.movies_id2index[movie_id]])[0:6]]"
   ]
  },
  {
   "cell_type": "code",
   "execution_count": 27,
   "metadata": {
    "scrolled": false
   },
   "outputs": [
    {
     "name": "stdout",
     "output_type": "stream",
     "text": [
      "797758\n",
      "Epoch: 0\n",
      "\tTrain rmse: 0.9102755963769634\n",
      "\tTest rmse: 0.9209788271750053\n",
      "Epoch: 1\n",
      "\tTrain rmse: 0.9049037342330173\n",
      "\tTest rmse: 0.9174269396922596\n",
      "Epoch: 2\n",
      "\tTrain rmse: 0.903080275509091\n",
      "\tTest rmse: 0.9162141753983352\n",
      "Epoch: 3\n",
      "\tTrain rmse: 0.8982335444671037\n",
      "\tTest rmse: 0.912216163304683\n",
      "Epoch: 4\n",
      "\tTrain rmse: 0.8903641549438732\n",
      "\tTest rmse: 0.9059195963286761\n",
      "Epoch: 5\n",
      "\tTrain rmse: 0.8833520227465635\n",
      "\tTest rmse: 0.901000682728536\n",
      "Epoch: 6\n",
      "\tTrain rmse: 0.8766547228714567\n",
      "\tTest rmse: 0.8962372672378438\n",
      "Epoch: 7\n",
      "\tTrain rmse: 0.8713866102701135\n",
      "\tTest rmse: 0.8926517912285485\n",
      "Epoch: 8\n",
      "\tTrain rmse: 0.8665726993160625\n",
      "\tTest rmse: 0.8895738593610957\n",
      "Epoch: 9\n",
      "\tTrain rmse: 0.8607412202916921\n",
      "\tTest rmse: 0.8854062615427877\n",
      "Epoch: 10\n",
      "\tTrain rmse: 0.8565270022858651\n",
      "\tTest rmse: 0.8836733574477651\n",
      "Epoch: 11\n",
      "\tTrain rmse: 0.8523828663652254\n",
      "\tTest rmse: 0.8810444251343617\n",
      "Epoch: 12\n",
      "\tTrain rmse: 0.8486037633794753\n",
      "\tTest rmse: 0.8788223262099039\n",
      "Epoch: 13\n",
      "\tTrain rmse: 0.8450393832697337\n",
      "\tTest rmse: 0.8778655099481434\n",
      "Epoch: 14\n",
      "\tTrain rmse: 0.8418745805131468\n",
      "\tTest rmse: 0.8763188653142012\n",
      "Epoch: 15\n",
      "\tTrain rmse: 0.8393087803094595\n",
      "\tTest rmse: 0.8751284186124938\n",
      "Epoch: 16\n",
      "\tTrain rmse: 0.8363400168351759\n",
      "\tTest rmse: 0.8743189630460297\n",
      "Epoch: 17\n",
      "\tTrain rmse: 0.8336231227759725\n",
      "\tTest rmse: 0.872792167876079\n",
      "Epoch: 18\n",
      "\tTrain rmse: 0.8308449606663232\n",
      "\tTest rmse: 0.8714027487702899\n",
      "Epoch: 19\n",
      "\tTrain rmse: 0.8286406239428392\n",
      "\tTest rmse: 0.8705011282857006\n",
      "Epoch: 20\n",
      "\tTrain rmse: 0.8268427146960001\n",
      "\tTest rmse: 0.8707730722010432\n",
      "Epoch: 21\n",
      "\tTrain rmse: 0.8250657355758638\n",
      "\tTest rmse: 0.8703250589397068\n",
      "Epoch: 22\n",
      "\tTrain rmse: 0.8224162712814693\n",
      "\tTest rmse: 0.8696160990384254\n",
      "Epoch: 23\n",
      "\tTrain rmse: 0.820896059191922\n",
      "\tTest rmse: 0.8692027194247707\n",
      "Epoch: 24\n",
      "\tTrain rmse: 0.8187932902093435\n",
      "\tTest rmse: 0.8686332084771033\n",
      "Epoch: 25\n",
      "\tTrain rmse: 0.8169502685101805\n",
      "\tTest rmse: 0.8684184389174516\n",
      "Epoch: 26\n",
      "\tTrain rmse: 0.8147141613996862\n",
      "\tTest rmse: 0.8678592566570912\n",
      "Epoch: 27\n",
      "\tTrain rmse: 0.8132154329737374\n",
      "\tTest rmse: 0.8676741514696391\n",
      "Epoch: 28\n",
      "\tTrain rmse: 0.8114253386742619\n",
      "\tTest rmse: 0.8668048938795118\n",
      "Epoch: 29\n",
      "\tTrain rmse: 0.8101661082587391\n",
      "\tTest rmse: 0.8666674609406073\n",
      "Epoch: 30\n",
      "\tTrain rmse: 0.8089073898040541\n",
      "\tTest rmse: 0.8671723688120693\n",
      "Epoch: 31\n",
      "\tTrain rmse: 0.8075374178542468\n",
      "\tTest rmse: 0.8666532227280521\n",
      "Epoch: 32\n",
      "\tTrain rmse: 0.8059019296257096\n",
      "\tTest rmse: 0.8662722935411754\n",
      "Epoch: 33\n",
      "\tTrain rmse: 0.8049417084734708\n",
      "\tTest rmse: 0.8663813885279686\n",
      "Epoch: 34\n",
      "\tTrain rmse: 0.8031097943549013\n",
      "\tTest rmse: 0.8659624659540849\n",
      "Epoch: 35\n",
      "\tTrain rmse: 0.8020332911934918\n",
      "\tTest rmse: 0.8659006427884258\n",
      "Epoch: 36\n",
      "\tTrain rmse: 0.8007138744864387\n",
      "\tTest rmse: 0.8657891044770089\n",
      "Epoch: 37\n",
      "\tTrain rmse: 0.7992932565315437\n",
      "\tTest rmse: 0.8652546372407504\n",
      "Epoch: 38\n",
      "\tTrain rmse: 0.7986003182315218\n",
      "\tTest rmse: 0.8655652227095261\n",
      "Epoch: 39\n",
      "\tTrain rmse: 0.7972964294643089\n",
      "\tTest rmse: 0.865604998597325\n",
      "Epoch: 40\n",
      "\tTrain rmse: 0.7963874011361464\n",
      "\tTest rmse: 0.8658541171515992\n",
      "Epoch: 41\n",
      "\tTrain rmse: 0.7951980946627611\n",
      "\tTest rmse: 0.8651792944229028\n",
      "Epoch: 42\n",
      "\tTrain rmse: 0.794531251613591\n",
      "\tTest rmse: 0.8649216001930521\n",
      "Epoch: 43\n",
      "\tTrain rmse: 0.7932288880576777\n",
      "\tTest rmse: 0.8649601390795021\n",
      "Epoch: 44\n",
      "\tTrain rmse: 0.7924327070431922\n",
      "\tTest rmse: 0.865011894139066\n",
      "Epoch: 45\n",
      "\tTrain rmse: 0.7918519932279012\n",
      "\tTest rmse: 0.864967588599306\n",
      "Epoch: 46\n",
      "\tTrain rmse: 0.7908231768922244\n",
      "\tTest rmse: 0.864994023660022\n",
      "Epoch: 47\n",
      "\tTrain rmse: 0.7900388827780616\n",
      "\tTest rmse: 0.8649269846100487\n",
      "Epoch: 48\n",
      "\tTrain rmse: 0.7893644339866638\n",
      "\tTest rmse: 0.8640646143463986\n",
      "Epoch: 49\n",
      "\tTrain rmse: 0.7888903839725366\n",
      "\tTest rmse: 0.8651294016971728\n"
     ]
    },
    {
     "data": {
      "image/png": "[encoded data removed]",
      "text/plain": [
       "<Figure size 432x288 with 1 Axes>"
      ]
     },
     "metadata": {
      "needs_background": "light"
     },
     "output_type": "display_data"
    }
   ],
   "source": [
    "reco = RecSys_vanilla_mf_biases(num_components=100)\n",
    "reco.fit(data_train,data_test, n_epochs = 50,learning_rate=0.02,lmbda=0.1)"
   ]
  },
  {
   "cell_type": "code",
   "execution_count": 28,
   "metadata": {},
   "outputs": [
    {
     "data": {
      "text/plain": [
       "['Song of Freedom (1936)',\n",
       " 'Apple, The (Sib) (1998)',\n",
       " 'Mamma Roma (1962)',\n",
       " 'Godfather, The (1972)',\n",
       " 'Lamerica (1994)']"
      ]
     },
     "execution_count": 28,
     "metadata": {},
     "output_type": "execute_result"
    }
   ],
   "source": [
    "reco.predict_top(1,return_titles = True)"
   ]
  },
  {
   "cell_type": "code",
   "execution_count": 29,
   "metadata": {},
   "outputs": [
    {
     "data": {
      "text/plain": [
       "[('Toy Story (1995)', 0),\n",
       " ('Toy Story 2 (1999)', 2881),\n",
       " (\"Bug's Life, A (1998)\", 2147),\n",
       " ('Aladdin (1992)', 573),\n",
       " ('Big Combo, The (1955)', 3046),\n",
       " ('Little Mermaid, The (1989)', 1886)]"
      ]
     },
     "execution_count": 29,
     "metadata": {},
     "output_type": "execute_result"
    }
   ],
   "source": [
    "from sklearn.metrics.pairwise import euclidean_distances\n",
    "movie_id = 1 #'Toy Story (1995)'\n",
    "#movie_id = 364 #'Lion King, The (1994)'\n",
    "\n",
    "pairwise_distances = euclidean_distances(reco.item_vecs, reco.item_vecs)\n",
    "[(reco.movie_id2title[reco.movies_index2id[item]],\n",
    "  item) for item in np.argsort(pairwise_distances[reco.movies_id2index[movie_id]])[0:6]]"
   ]
  },
  {
   "cell_type": "code",
   "execution_count": 30,
   "metadata": {},
   "outputs": [
    {
     "name": "stderr",
     "output_type": "stream",
     "text": [
      "100%|███████████████████████████████████████| 6040/6040 [30:04<00:00,  3.35it/s]"
     ]
    },
    {
     "name": "stdout",
     "output_type": "stream",
     "text": [
      "Recommender results are: Precision = 0.0318, Recall = 0.0896, MAP = 0.0166\n"
     ]
    },
    {
     "name": "stderr",
     "output_type": "stream",
     "text": [
      "\n"
     ]
    }
   ],
   "source": [
    "evaluate_algorithm_top(data_test, reco, at = 25)"
   ]
  }
 ],
 "metadata": {
  "kernelspec": {
   "display_name": "Python 3 (ipykernel)",
   "language": "python",
   "name": "python3"
  },
  "language_info": {
   "codemirror_mode": {
    "name": "ipython",
    "version": 3
   },
   "file_extension": ".py",
   "mimetype": "text/x-python",
   "name": "python",
   "nbconvert_exporter": "python",
   "pygments_lexer": "ipython3",
   "version": "3.9.18"
  }
 },
 "nbformat": 4,
 "nbformat_minor": 2
}
